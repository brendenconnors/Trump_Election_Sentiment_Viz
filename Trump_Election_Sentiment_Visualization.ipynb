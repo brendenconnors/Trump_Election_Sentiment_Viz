{
 "cells": [
  {
   "cell_type": "code",
   "execution_count": 277,
   "metadata": {
    "scrolled": false
   },
   "outputs": [],
   "source": [
    "import pandas as pd\n",
    "import plotly.express as px\n",
    "import plotly.graph_objects as go\n",
    "from plotly.subplots import make_subplots\n",
    "from plotly.colors import n_colors\n",
    "import datetime\n",
    "from dateutil import tz\n",
    "import math\n",
    "from nltk.sentiment.vader import SentimentIntensityAnalyzer\n",
    "from nltk.sentiment import SentimentAnalyzer\n",
    "from nltk.sentiment.util import *\n",
    "import numpy as np\n",
    "\n",
    "\n",
    "\n",
    "# METHOD 1: Hardcode zones:\n",
    "from_zone = tz.gettz('UTC')\n",
    "to_zone = tz.gettz('America/New_York')\n",
    "\n",
    "\n",
    "flip_df = pd.read_csv('battle_state_flips.csv')\n",
    "flip_df.time_flipped = pd.to_datetime(flip_df.time_flipped)\n",
    "flip_df.time_flipped = flip_df.time_flipped.apply(lambda x: x.replace(tzinfo=from_zone))\n",
    "flip_df.time_flipped = flip_df.time_flipped.apply(lambda x: x.astimezone(to_zone))\n",
    "\n",
    "electoral_df = pd.read_csv('AP_call_times.csv')\n",
    "electoral_df.call_time = pd.to_datetime(electoral_df.call_time)\n",
    "electoral_df.call_time = electoral_df.call_time.apply(lambda x: x.astimezone(to_zone))\n",
    "\n",
    "tweet_df2 = pd.read_csv('trump_tweets_all.txt',sep='\\t')\n",
    "tweet_df2.timestamp = pd.to_datetime(tweet_df2.timestamp)\n",
    "tweet_df2.timestamp = tweet_df2.timestamp.apply(lambda x: x.replace(tzinfo=from_zone))\n",
    "tweet_df2.timestamp = tweet_df2.timestamp.apply(lambda x: x.astimezone(to_zone))"
   ]
  },
  {
   "cell_type": "code",
   "execution_count": 2,
   "metadata": {},
   "outputs": [],
   "source": [
    "def candidate_total_votes(df,date):\n",
    "    temp_df = df[df.timestamp<=date]\n",
    "    \n",
    "    #get latest report from states\n",
    "    latest_state = temp_df.sort_values('timestamp').groupby('state').tail(1)\n",
    "    states_reporting = len(latest_state)\n",
    "    \n",
    "    #Trump votes\n",
    "    t_votes_w = latest_state[latest_state.leading_candidate_name=='Trump']['leading_candidate_votes'].sum()\n",
    "    t_votes_l = latest_state[latest_state.trailing_candidate_name=='Trump']['trailing_candidate_votes'].sum()\n",
    "    t_states = len(latest_state[latest_state.leading_candidate_name=='Trump'])\n",
    " \n",
    "    #Biden votes\n",
    "    b_votes_w = latest_state[latest_state.leading_candidate_name=='Biden']['leading_candidate_votes'].sum()\n",
    "    b_votes_l = latest_state[latest_state.trailing_candidate_name=='Biden']['trailing_candidate_votes'].sum()\n",
    "    b_states = len(latest_state[latest_state.leading_candidate_name=='Biden'])\n",
    "    \n",
    "    #combine\n",
    "    t_votes = t_votes_w + t_votes_l\n",
    "    b_votes = b_votes_w + b_votes_l\n",
    "    \n",
    "    return t_votes,b_votes\n",
    "        \n",
    "    "
   ]
  },
  {
   "cell_type": "code",
   "execution_count": 3,
   "metadata": {},
   "outputs": [],
   "source": [
    "def date_range(start,end,increment,increment_size):\n",
    "    date_range=[]\n",
    "    if increment not in ['hour','day']:\n",
    "        return \"increment must be in ['hour','day']\"\n",
    "    \n",
    "    else:\n",
    "        contained=True\n",
    "        while start<=end:           \n",
    "            date_range.append(start)\n",
    "            if increment=='hour':\n",
    "                start+=datetime.timedelta(hours=increment_size)\n",
    "            else:\n",
    "                start+=datetime.timedelta(days=increment_size)\n",
    "    return date_range\n",
    "        "
   ]
  },
  {
   "cell_type": "code",
   "execution_count": 4,
   "metadata": {},
   "outputs": [],
   "source": [
    "def rolling_average(df,date_range,window_size,column_name):\n",
    "    end_idx = window_size-1\n",
    "    averages=[]\n",
    "    centers=[]\n",
    "    for i in range(len(date_range)-(window_size-1)):\n",
    "        date_from = date_range[i]\n",
    "        date_to = date_range[end_idx]\n",
    "        temp_df=df[(df.timestamp>=date_from) & (df.timestamp<date_to)]\n",
    "        if len(temp_df)<3:\n",
    "            end_idx+=1\n",
    "            continue\n",
    "        avg = temp_df[column_name].mean()\n",
    "        averages.append(avg)\n",
    "        centers.append(date_range[end_idx]) \n",
    "        \n",
    "        end_idx+=1\n",
    "        \n",
    "    return averages, centers"
   ]
  },
  {
   "cell_type": "code",
   "execution_count": 5,
   "metadata": {},
   "outputs": [],
   "source": [
    "def find_lead(df,timestamp):\n",
    "    df=df[df.call_time<=timestamp]\n",
    "    biden_score = df[df.winner=='Biden']['votes'].sum()\n",
    "    trump_score = df[df.winner=='Trump']['votes'].sum()\n",
    "    \n",
    "    return trump_score - biden_score"
   ]
  },
  {
   "cell_type": "markdown",
   "metadata": {},
   "source": [
    "# Sentiment analysis on tweets\n",
    "\n",
    "\n"
   ]
  },
  {
   "cell_type": "code",
   "execution_count": 12,
   "metadata": {},
   "outputs": [],
   "source": [
    "tweet_df = pd.read_csv('trump_tweets.txt',sep='\\t')\n",
    "tweet_df.timestamp = pd.to_datetime(tweet_df['timestamp'])\n",
    "\n",
    "tweet_df.timestamp = tweet_df.timestamp.apply(lambda x: x.replace(tzinfo=from_zone)) \n",
    "tweet_df.timestamp = tweet_df.timestamp.apply(lambda x: x.astimezone(to_zone))\n",
    "\n",
    "#remove URLs which are either video/picture\n",
    "tweet_df.tweet = tweet_df.tweet.str.replace('((http|https)\\:\\/\\/)?[a-zA-Z0-9\\.\\/\\?\\:@\\-_=#]+\\.([a-zA-Z]){2,6}([a-zA-Z0-9\\.\\&\\/\\?\\:@\\-_=#])*','')\n",
    "\n",
    "#sentiment analysis\n",
    "vader = SentimentIntensityAnalyzer()\n",
    "basic = SentimentAnalyzer()\n",
    "tweet_df['sentiment'] = tweet_df.tweet.apply(lambda x: vader.polarity_scores(x)['compound'])\n",
    "#tweet_df['sentiment2'] = tweet_df.tweet.apply(lambda x: basic.evaluate(x)['compound'])\n",
    "\n",
    "tweet_df=tweet_df[tweet_df.tweet!='']"
   ]
  },
  {
   "cell_type": "markdown",
   "metadata": {},
   "source": [
    "# Split our tweets into 12 hour buckets, average those"
   ]
  },
  {
   "cell_type": "code",
   "execution_count": 41,
   "metadata": {},
   "outputs": [],
   "source": [
    "start=datetime.datetime(2020,11,1,tzinfo=to_zone)\n",
    "end=datetime.datetime(2020,11,12,tzinfo=to_zone)\n",
    "\n",
    "date_range_list = date_range(start,end,'hour',12)\n",
    "averages, centers = rolling_average(tweet_df,date_range_list,2,'sentiment')\n"
   ]
  },
  {
   "cell_type": "markdown",
   "metadata": {},
   "source": [
    "# Calculate Trump defecits/leads"
   ]
  },
  {
   "cell_type": "code",
   "execution_count": 374,
   "metadata": {},
   "outputs": [],
   "source": [
    "\n",
    "call_times=list(electoral_df.call_time)\n",
    "states=list(electoral_df.state)\n",
    "states=states[::-1]\n",
    "call_times = call_times[::-1]\n",
    "states=[state for state,time in zip(states,call_times) if time>=datetime.datetime(2020,11,4,1,tzinfo=to_zone) and time<max(centers)]\n",
    "call_times = [time for time in call_times if time>=datetime.datetime(2020,11,4,1,tzinfo=to_zone) and time<max(centers)]\n",
    "\n",
    "trump_leads = [find_lead(electoral_df,time) for time in call_times]"
   ]
  },
  {
   "cell_type": "markdown",
   "metadata": {},
   "source": [
    "# Calculate number of tweets for each day\n",
    "\n",
    "Include tweets that just include media (picture, video)"
   ]
  },
  {
   "cell_type": "code",
   "execution_count": 279,
   "metadata": {},
   "outputs": [
    {
     "name": "stderr",
     "output_type": "stream",
     "text": [
      "<ipython-input-279-d89d886cb8d3>:5: UserWarning:\n",
      "\n",
      "Boolean Series key will be reindexed to match DataFrame index.\n",
      "\n"
     ]
    }
   ],
   "source": [
    "day_range= date_range(start,end,'day',1)\n",
    "number_tweets=[]\n",
    "\n",
    "for i in range(len(day_range)-1):\n",
    "    num_tweets = len(tweet_df[(tweet_df2.timestamp>=day_range[i]) & (tweet_df2.timestamp<day_range[i+1])])\n",
    "    number_tweets.append(num_tweets)\n",
    "    \n",
    "day_range=day_range[:-1]"
   ]
  },
  {
   "cell_type": "markdown",
   "metadata": {},
   "source": [
    "# Make scatter"
   ]
  },
  {
   "cell_type": "code",
   "execution_count": 415,
   "metadata": {
    "scrolled": false
   },
   "outputs": [
    {
     "data": {
      "application/vnd.plotly.v1+json": {
       "config": {
        "plotlyServerURL": "https://plot.ly"
       },
       "data": [
        {
         "hovertemplate": "Midpoint of 12 hr window: %{x}<br>Average Sentiment: %{y}",
         "line": {
          "color": "black",
          "dash": "dot"
         },
         "mode": "lines+markers",
         "name": "Avg Trump Sentiment",
         "type": "scatter",
         "x": [
          "2020-11-01T06:00:00-05:00",
          "2020-11-01T18:00:00-05:00",
          "2020-11-02T06:00:00-05:00",
          "2020-11-02T18:00:00-05:00",
          "2020-11-03T06:00:00-05:00",
          "2020-11-03T18:00:00-05:00",
          "2020-11-04T06:00:00-05:00",
          "2020-11-04T18:00:00-05:00",
          "2020-11-05T06:00:00-05:00",
          "2020-11-06T06:00:00-05:00",
          "2020-11-06T18:00:00-05:00",
          "2020-11-07T06:00:00-05:00",
          "2020-11-08T06:00:00-05:00",
          "2020-11-08T18:00:00-05:00",
          "2020-11-09T18:00:00-05:00",
          "2020-11-10T06:00:00-05:00",
          "2020-11-10T18:00:00-05:00",
          "2020-11-11T06:00:00-05:00",
          "2020-11-11T18:00:00-05:00"
         ],
         "xaxis": "x",
         "y": [
          0.2004,
          0.1684434782608696,
          0.18772307692307694,
          0.08370212765957451,
          0.5008,
          0.7807000000000001,
          -0.41241666666666665,
          0.0772375,
          -0.009033333333333319,
          0.17703333333333335,
          -0.06983999999999999,
          -0.017342857142857136,
          -0.26115,
          -0.11273333333333334,
          0.2588857142857143,
          0.16717272727272728,
          0.07575000000000001,
          0.2923333333333334,
          0.33840000000000003
         ],
         "yaxis": "y"
        },
        {
         "fill": "tozeroy",
         "fillcolor": "rgba(255, 0, 0, 0.1)",
         "mode": "none",
         "name": "Election Day",
         "opacity": 0.1,
         "showlegend": false,
         "type": "scatter",
         "x": [
          "2020-11-03",
          "2020-11-04"
         ],
         "y": [
          10,
          10
         ]
        },
        {
         "customdata": [
          "Texas",
          "Arizona",
          "Maine",
          "Wisconsin",
          "Michigan",
          "Pennsylvania",
          "Nevada",
          "Alaska"
         ],
         "hovertemplate": "Lead: %{y} votes <br>State Called: %{customdata}<br>Time: %{x}",
         "line": {
          "color": "red",
          "dash": "dot"
         },
         "mode": "lines+markers",
         "name": "Trump Electoral Lead",
         "type": "scatter",
         "x": [
          "2020-11-04T01:05:00-05:00",
          "2020-11-04T02:51:00-05:00",
          "2020-11-04T03:05:00-05:00",
          "2020-11-04T14:16:00-05:00",
          "2020-11-04T18:00:00-05:00",
          "2020-11-07T11:25:00-05:00",
          "2020-11-07T12:13:00-05:00",
          "2020-11-11T12:16:00-05:00"
         ],
         "xaxis": "x",
         "y": [
          -9,
          -20,
          -24,
          -34,
          -50,
          -70,
          -76,
          -73
         ],
         "yaxis": "y2"
        },
        {
         "fill": "tozeroy",
         "fillcolor": "rgba(255, 0, 0, 0.1)",
         "mode": "none",
         "name": "Election Day",
         "opacity": 0.1,
         "type": "scatter",
         "x": [
          "2020-11-03",
          "2020-11-04"
         ],
         "y": [
          -10,
          -10
         ]
        }
       ],
       "layout": {
        "annotations": [
         {
          "font": {
           "size": 13
          },
          "showarrow": false,
          "text": "Georgia Flips",
          "textangle": -45,
          "x": "2020-11-06T04:50:00-05:00",
          "xshift": 20,
          "y": 0.8,
          "yshift": 33
         },
         {
          "font": {
           "size": 13
          },
          "showarrow": false,
          "text": "Michigan Flips",
          "textangle": -45,
          "x": "2020-11-04T09:15:00-05:00",
          "xshift": 20,
          "y": 0.8,
          "yshift": 33
         },
         {
          "font": {
           "size": 13
          },
          "showarrow": false,
          "text": "Pennsylvania Flips",
          "textangle": -45,
          "x": "2020-11-06T08:52:00-05:00",
          "xshift": 42,
          "y": 0.8,
          "yshift": 46
         }
        ],
        "legend": {
         "x": 0.9,
         "xanchor": "right",
         "y": 0.95,
         "yanchor": "top"
        },
        "margin": {
         "b": 0.1,
         "r": 0.1
        },
        "shapes": [
         {
          "line": {
           "color": "RoyalBlue",
           "width": 1
          },
          "name": "woo",
          "opacity": 0.8,
          "type": "line",
          "x0": "2020-11-06T04:50:00-05:00",
          "x1": "2020-11-06T04:50:00-05:00",
          "y0": -0.5,
          "y1": 0.8
         },
         {
          "line": {
           "color": "RoyalBlue",
           "width": 1
          },
          "name": "woo",
          "opacity": 0.8,
          "type": "line",
          "x0": "2020-11-04T09:15:00-05:00",
          "x1": "2020-11-04T09:15:00-05:00",
          "y0": -0.5,
          "y1": 0.8
         },
         {
          "line": {
           "color": "RoyalBlue",
           "width": 1
          },
          "name": "woo",
          "opacity": 0.8,
          "type": "line",
          "x0": "2020-11-06T08:52:00-05:00",
          "x1": "2020-11-06T08:52:00-05:00",
          "y0": -0.5,
          "y1": 0.8
         }
        ],
        "template": {
         "data": {
          "bar": [
           {
            "error_x": {
             "color": "#2a3f5f"
            },
            "error_y": {
             "color": "#2a3f5f"
            },
            "marker": {
             "line": {
              "color": "#E5ECF6",
              "width": 0.5
             }
            },
            "type": "bar"
           }
          ],
          "barpolar": [
           {
            "marker": {
             "line": {
              "color": "#E5ECF6",
              "width": 0.5
             }
            },
            "type": "barpolar"
           }
          ],
          "carpet": [
           {
            "aaxis": {
             "endlinecolor": "#2a3f5f",
             "gridcolor": "white",
             "linecolor": "white",
             "minorgridcolor": "white",
             "startlinecolor": "#2a3f5f"
            },
            "baxis": {
             "endlinecolor": "#2a3f5f",
             "gridcolor": "white",
             "linecolor": "white",
             "minorgridcolor": "white",
             "startlinecolor": "#2a3f5f"
            },
            "type": "carpet"
           }
          ],
          "choropleth": [
           {
            "colorbar": {
             "outlinewidth": 0,
             "ticks": ""
            },
            "type": "choropleth"
           }
          ],
          "contour": [
           {
            "colorbar": {
             "outlinewidth": 0,
             "ticks": ""
            },
            "colorscale": [
             [
              0,
              "#0d0887"
             ],
             [
              0.1111111111111111,
              "#46039f"
             ],
             [
              0.2222222222222222,
              "#7201a8"
             ],
             [
              0.3333333333333333,
              "#9c179e"
             ],
             [
              0.4444444444444444,
              "#bd3786"
             ],
             [
              0.5555555555555556,
              "#d8576b"
             ],
             [
              0.6666666666666666,
              "#ed7953"
             ],
             [
              0.7777777777777778,
              "#fb9f3a"
             ],
             [
              0.8888888888888888,
              "#fdca26"
             ],
             [
              1,
              "#f0f921"
             ]
            ],
            "type": "contour"
           }
          ],
          "contourcarpet": [
           {
            "colorbar": {
             "outlinewidth": 0,
             "ticks": ""
            },
            "type": "contourcarpet"
           }
          ],
          "heatmap": [
           {
            "colorbar": {
             "outlinewidth": 0,
             "ticks": ""
            },
            "colorscale": [
             [
              0,
              "#0d0887"
             ],
             [
              0.1111111111111111,
              "#46039f"
             ],
             [
              0.2222222222222222,
              "#7201a8"
             ],
             [
              0.3333333333333333,
              "#9c179e"
             ],
             [
              0.4444444444444444,
              "#bd3786"
             ],
             [
              0.5555555555555556,
              "#d8576b"
             ],
             [
              0.6666666666666666,
              "#ed7953"
             ],
             [
              0.7777777777777778,
              "#fb9f3a"
             ],
             [
              0.8888888888888888,
              "#fdca26"
             ],
             [
              1,
              "#f0f921"
             ]
            ],
            "type": "heatmap"
           }
          ],
          "heatmapgl": [
           {
            "colorbar": {
             "outlinewidth": 0,
             "ticks": ""
            },
            "colorscale": [
             [
              0,
              "#0d0887"
             ],
             [
              0.1111111111111111,
              "#46039f"
             ],
             [
              0.2222222222222222,
              "#7201a8"
             ],
             [
              0.3333333333333333,
              "#9c179e"
             ],
             [
              0.4444444444444444,
              "#bd3786"
             ],
             [
              0.5555555555555556,
              "#d8576b"
             ],
             [
              0.6666666666666666,
              "#ed7953"
             ],
             [
              0.7777777777777778,
              "#fb9f3a"
             ],
             [
              0.8888888888888888,
              "#fdca26"
             ],
             [
              1,
              "#f0f921"
             ]
            ],
            "type": "heatmapgl"
           }
          ],
          "histogram": [
           {
            "marker": {
             "colorbar": {
              "outlinewidth": 0,
              "ticks": ""
             }
            },
            "type": "histogram"
           }
          ],
          "histogram2d": [
           {
            "colorbar": {
             "outlinewidth": 0,
             "ticks": ""
            },
            "colorscale": [
             [
              0,
              "#0d0887"
             ],
             [
              0.1111111111111111,
              "#46039f"
             ],
             [
              0.2222222222222222,
              "#7201a8"
             ],
             [
              0.3333333333333333,
              "#9c179e"
             ],
             [
              0.4444444444444444,
              "#bd3786"
             ],
             [
              0.5555555555555556,
              "#d8576b"
             ],
             [
              0.6666666666666666,
              "#ed7953"
             ],
             [
              0.7777777777777778,
              "#fb9f3a"
             ],
             [
              0.8888888888888888,
              "#fdca26"
             ],
             [
              1,
              "#f0f921"
             ]
            ],
            "type": "histogram2d"
           }
          ],
          "histogram2dcontour": [
           {
            "colorbar": {
             "outlinewidth": 0,
             "ticks": ""
            },
            "colorscale": [
             [
              0,
              "#0d0887"
             ],
             [
              0.1111111111111111,
              "#46039f"
             ],
             [
              0.2222222222222222,
              "#7201a8"
             ],
             [
              0.3333333333333333,
              "#9c179e"
             ],
             [
              0.4444444444444444,
              "#bd3786"
             ],
             [
              0.5555555555555556,
              "#d8576b"
             ],
             [
              0.6666666666666666,
              "#ed7953"
             ],
             [
              0.7777777777777778,
              "#fb9f3a"
             ],
             [
              0.8888888888888888,
              "#fdca26"
             ],
             [
              1,
              "#f0f921"
             ]
            ],
            "type": "histogram2dcontour"
           }
          ],
          "mesh3d": [
           {
            "colorbar": {
             "outlinewidth": 0,
             "ticks": ""
            },
            "type": "mesh3d"
           }
          ],
          "parcoords": [
           {
            "line": {
             "colorbar": {
              "outlinewidth": 0,
              "ticks": ""
             }
            },
            "type": "parcoords"
           }
          ],
          "pie": [
           {
            "automargin": true,
            "type": "pie"
           }
          ],
          "scatter": [
           {
            "marker": {
             "colorbar": {
              "outlinewidth": 0,
              "ticks": ""
             }
            },
            "type": "scatter"
           }
          ],
          "scatter3d": [
           {
            "line": {
             "colorbar": {
              "outlinewidth": 0,
              "ticks": ""
             }
            },
            "marker": {
             "colorbar": {
              "outlinewidth": 0,
              "ticks": ""
             }
            },
            "type": "scatter3d"
           }
          ],
          "scattercarpet": [
           {
            "marker": {
             "colorbar": {
              "outlinewidth": 0,
              "ticks": ""
             }
            },
            "type": "scattercarpet"
           }
          ],
          "scattergeo": [
           {
            "marker": {
             "colorbar": {
              "outlinewidth": 0,
              "ticks": ""
             }
            },
            "type": "scattergeo"
           }
          ],
          "scattergl": [
           {
            "marker": {
             "colorbar": {
              "outlinewidth": 0,
              "ticks": ""
             }
            },
            "type": "scattergl"
           }
          ],
          "scattermapbox": [
           {
            "marker": {
             "colorbar": {
              "outlinewidth": 0,
              "ticks": ""
             }
            },
            "type": "scattermapbox"
           }
          ],
          "scatterpolar": [
           {
            "marker": {
             "colorbar": {
              "outlinewidth": 0,
              "ticks": ""
             }
            },
            "type": "scatterpolar"
           }
          ],
          "scatterpolargl": [
           {
            "marker": {
             "colorbar": {
              "outlinewidth": 0,
              "ticks": ""
             }
            },
            "type": "scatterpolargl"
           }
          ],
          "scatterternary": [
           {
            "marker": {
             "colorbar": {
              "outlinewidth": 0,
              "ticks": ""
             }
            },
            "type": "scatterternary"
           }
          ],
          "surface": [
           {
            "colorbar": {
             "outlinewidth": 0,
             "ticks": ""
            },
            "colorscale": [
             [
              0,
              "#0d0887"
             ],
             [
              0.1111111111111111,
              "#46039f"
             ],
             [
              0.2222222222222222,
              "#7201a8"
             ],
             [
              0.3333333333333333,
              "#9c179e"
             ],
             [
              0.4444444444444444,
              "#bd3786"
             ],
             [
              0.5555555555555556,
              "#d8576b"
             ],
             [
              0.6666666666666666,
              "#ed7953"
             ],
             [
              0.7777777777777778,
              "#fb9f3a"
             ],
             [
              0.8888888888888888,
              "#fdca26"
             ],
             [
              1,
              "#f0f921"
             ]
            ],
            "type": "surface"
           }
          ],
          "table": [
           {
            "cells": {
             "fill": {
              "color": "#EBF0F8"
             },
             "line": {
              "color": "white"
             }
            },
            "header": {
             "fill": {
              "color": "#C8D4E3"
             },
             "line": {
              "color": "white"
             }
            },
            "type": "table"
           }
          ]
         },
         "layout": {
          "annotationdefaults": {
           "arrowcolor": "#2a3f5f",
           "arrowhead": 0,
           "arrowwidth": 1
          },
          "coloraxis": {
           "colorbar": {
            "outlinewidth": 0,
            "ticks": ""
           }
          },
          "colorscale": {
           "diverging": [
            [
             0,
             "#8e0152"
            ],
            [
             0.1,
             "#c51b7d"
            ],
            [
             0.2,
             "#de77ae"
            ],
            [
             0.3,
             "#f1b6da"
            ],
            [
             0.4,
             "#fde0ef"
            ],
            [
             0.5,
             "#f7f7f7"
            ],
            [
             0.6,
             "#e6f5d0"
            ],
            [
             0.7,
             "#b8e186"
            ],
            [
             0.8,
             "#7fbc41"
            ],
            [
             0.9,
             "#4d9221"
            ],
            [
             1,
             "#276419"
            ]
           ],
           "sequential": [
            [
             0,
             "#0d0887"
            ],
            [
             0.1111111111111111,
             "#46039f"
            ],
            [
             0.2222222222222222,
             "#7201a8"
            ],
            [
             0.3333333333333333,
             "#9c179e"
            ],
            [
             0.4444444444444444,
             "#bd3786"
            ],
            [
             0.5555555555555556,
             "#d8576b"
            ],
            [
             0.6666666666666666,
             "#ed7953"
            ],
            [
             0.7777777777777778,
             "#fb9f3a"
            ],
            [
             0.8888888888888888,
             "#fdca26"
            ],
            [
             1,
             "#f0f921"
            ]
           ],
           "sequentialminus": [
            [
             0,
             "#0d0887"
            ],
            [
             0.1111111111111111,
             "#46039f"
            ],
            [
             0.2222222222222222,
             "#7201a8"
            ],
            [
             0.3333333333333333,
             "#9c179e"
            ],
            [
             0.4444444444444444,
             "#bd3786"
            ],
            [
             0.5555555555555556,
             "#d8576b"
            ],
            [
             0.6666666666666666,
             "#ed7953"
            ],
            [
             0.7777777777777778,
             "#fb9f3a"
            ],
            [
             0.8888888888888888,
             "#fdca26"
            ],
            [
             1,
             "#f0f921"
            ]
           ]
          },
          "colorway": [
           "#636efa",
           "#EF553B",
           "#00cc96",
           "#ab63fa",
           "#FFA15A",
           "#19d3f3",
           "#FF6692",
           "#B6E880",
           "#FF97FF",
           "#FECB52"
          ],
          "font": {
           "color": "#2a3f5f"
          },
          "geo": {
           "bgcolor": "white",
           "lakecolor": "white",
           "landcolor": "#E5ECF6",
           "showlakes": true,
           "showland": true,
           "subunitcolor": "white"
          },
          "hoverlabel": {
           "align": "left"
          },
          "hovermode": "closest",
          "mapbox": {
           "style": "light"
          },
          "paper_bgcolor": "white",
          "plot_bgcolor": "#E5ECF6",
          "polar": {
           "angularaxis": {
            "gridcolor": "white",
            "linecolor": "white",
            "ticks": ""
           },
           "bgcolor": "#E5ECF6",
           "radialaxis": {
            "gridcolor": "white",
            "linecolor": "white",
            "ticks": ""
           }
          },
          "scene": {
           "xaxis": {
            "backgroundcolor": "#E5ECF6",
            "gridcolor": "white",
            "gridwidth": 2,
            "linecolor": "white",
            "showbackground": true,
            "ticks": "",
            "zerolinecolor": "white"
           },
           "yaxis": {
            "backgroundcolor": "#E5ECF6",
            "gridcolor": "white",
            "gridwidth": 2,
            "linecolor": "white",
            "showbackground": true,
            "ticks": "",
            "zerolinecolor": "white"
           },
           "zaxis": {
            "backgroundcolor": "#E5ECF6",
            "gridcolor": "white",
            "gridwidth": 2,
            "linecolor": "white",
            "showbackground": true,
            "ticks": "",
            "zerolinecolor": "white"
           }
          },
          "shapedefaults": {
           "line": {
            "color": "#2a3f5f"
           }
          },
          "ternary": {
           "aaxis": {
            "gridcolor": "white",
            "linecolor": "white",
            "ticks": ""
           },
           "baxis": {
            "gridcolor": "white",
            "linecolor": "white",
            "ticks": ""
           },
           "bgcolor": "#E5ECF6",
           "caxis": {
            "gridcolor": "white",
            "linecolor": "white",
            "ticks": ""
           }
          },
          "title": {
           "x": 0.05
          },
          "xaxis": {
           "automargin": true,
           "gridcolor": "white",
           "linecolor": "white",
           "ticks": "",
           "title": {
            "standoff": 15
           },
           "zerolinecolor": "white",
           "zerolinewidth": 2
          },
          "yaxis": {
           "automargin": true,
           "gridcolor": "white",
           "linecolor": "white",
           "ticks": "",
           "title": {
            "standoff": 15
           },
           "zerolinecolor": "white",
           "zerolinewidth": 2
          }
         }
        },
        "title": {
         "text": "Trump's Election Twitter Storm"
        },
        "width": 1000,
        "xaxis": {
         "anchor": "y",
         "domain": [
          0,
          0.94
         ]
        },
        "yaxis": {
         "anchor": "x",
         "domain": [
          0,
          1
         ],
         "range": [
          -0.5,
          0.8
         ],
         "title": {
          "text": "Average Trump Tweet Sentiment (12 hrs)"
         }
        },
        "yaxis2": {
         "anchor": "x",
         "dtick": 20,
         "overlaying": "y",
         "side": "right",
         "tick0": -50,
         "title": {
          "text": "Trump's Electoral College Lead"
         }
        }
       }
      },
      "text/html": [
       "<div>\n",
       "        \n",
       "        \n",
       "            <div id=\"8e1d0246-1343-4bf0-923f-96f1f3a452b1\" class=\"plotly-graph-div\" style=\"height:525px; width:1000px;\"></div>\n",
       "            <script type=\"text/javascript\">\n",
       "                require([\"plotly\"], function(Plotly) {\n",
       "                    window.PLOTLYENV=window.PLOTLYENV || {};\n",
       "                    \n",
       "                if (document.getElementById(\"8e1d0246-1343-4bf0-923f-96f1f3a452b1\")) {\n",
       "                    Plotly.newPlot(\n",
       "                        '8e1d0246-1343-4bf0-923f-96f1f3a452b1',\n",
       "                        [{\"hovertemplate\": \"Midpoint of 12 hr window: %{x}<br>Average Sentiment: %{y}\", \"line\": {\"color\": \"black\", \"dash\": \"dot\"}, \"mode\": \"lines+markers\", \"name\": \"Avg Trump Sentiment\", \"type\": \"scatter\", \"x\": [\"2020-11-01T06:00:00-05:00\", \"2020-11-01T18:00:00-05:00\", \"2020-11-02T06:00:00-05:00\", \"2020-11-02T18:00:00-05:00\", \"2020-11-03T06:00:00-05:00\", \"2020-11-03T18:00:00-05:00\", \"2020-11-04T06:00:00-05:00\", \"2020-11-04T18:00:00-05:00\", \"2020-11-05T06:00:00-05:00\", \"2020-11-06T06:00:00-05:00\", \"2020-11-06T18:00:00-05:00\", \"2020-11-07T06:00:00-05:00\", \"2020-11-08T06:00:00-05:00\", \"2020-11-08T18:00:00-05:00\", \"2020-11-09T18:00:00-05:00\", \"2020-11-10T06:00:00-05:00\", \"2020-11-10T18:00:00-05:00\", \"2020-11-11T06:00:00-05:00\", \"2020-11-11T18:00:00-05:00\"], \"xaxis\": \"x\", \"y\": [0.2004, 0.1684434782608696, 0.18772307692307694, 0.08370212765957451, 0.5008, 0.7807000000000001, -0.41241666666666665, 0.0772375, -0.009033333333333319, 0.17703333333333335, -0.06983999999999999, -0.017342857142857136, -0.26115, -0.11273333333333334, 0.2588857142857143, 0.16717272727272728, 0.07575000000000001, 0.2923333333333334, 0.33840000000000003], \"yaxis\": \"y\"}, {\"fill\": \"tozeroy\", \"fillcolor\": \"rgba(255, 0, 0, 0.1)\", \"mode\": \"none\", \"name\": \"Election Day\", \"opacity\": 0.1, \"showlegend\": false, \"type\": \"scatter\", \"x\": [\"2020-11-03\", \"2020-11-04\"], \"y\": [10, 10]}, {\"customdata\": [\"Texas\", \"Arizona\", \"Maine\", \"Wisconsin\", \"Michigan\", \"Pennsylvania\", \"Nevada\", \"Alaska\"], \"hovertemplate\": \"Lead: %{y} votes <br>State Called: %{customdata}<br>Time: %{x}\", \"line\": {\"color\": \"red\", \"dash\": \"dot\"}, \"mode\": \"lines+markers\", \"name\": \"Trump Electoral Lead\", \"type\": \"scatter\", \"x\": [\"2020-11-04T01:05:00-05:00\", \"2020-11-04T02:51:00-05:00\", \"2020-11-04T03:05:00-05:00\", \"2020-11-04T14:16:00-05:00\", \"2020-11-04T18:00:00-05:00\", \"2020-11-07T11:25:00-05:00\", \"2020-11-07T12:13:00-05:00\", \"2020-11-11T12:16:00-05:00\"], \"xaxis\": \"x\", \"y\": [-9, -20, -24, -34, -50, -70, -76, -73], \"yaxis\": \"y2\"}, {\"fill\": \"tozeroy\", \"fillcolor\": \"rgba(255, 0, 0, 0.1)\", \"mode\": \"none\", \"name\": \"Election Day\", \"opacity\": 0.1, \"type\": \"scatter\", \"x\": [\"2020-11-03\", \"2020-11-04\"], \"y\": [-10, -10]}],\n",
       "                        {\"annotations\": [{\"font\": {\"size\": 13}, \"showarrow\": false, \"text\": \"Georgia Flips\", \"textangle\": -45, \"x\": \"2020-11-06T04:50:00-05:00\", \"xshift\": 20, \"y\": 0.8, \"yshift\": 33}, {\"font\": {\"size\": 13}, \"showarrow\": false, \"text\": \"Michigan Flips\", \"textangle\": -45, \"x\": \"2020-11-04T09:15:00-05:00\", \"xshift\": 20, \"y\": 0.8, \"yshift\": 33}, {\"font\": {\"size\": 13}, \"showarrow\": false, \"text\": \"Pennsylvania Flips\", \"textangle\": -45, \"x\": \"2020-11-06T08:52:00-05:00\", \"xshift\": 42, \"y\": 0.8, \"yshift\": 46}], \"legend\": {\"x\": 0.9, \"xanchor\": \"right\", \"y\": 0.95, \"yanchor\": \"top\"}, \"margin\": {\"b\": 0.1, \"r\": 0.1}, \"shapes\": [{\"line\": {\"color\": \"RoyalBlue\", \"width\": 1}, \"name\": \"woo\", \"opacity\": 0.8, \"type\": \"line\", \"x0\": \"2020-11-06T04:50:00-05:00\", \"x1\": \"2020-11-06T04:50:00-05:00\", \"y0\": -0.5, \"y1\": 0.8}, {\"line\": {\"color\": \"RoyalBlue\", \"width\": 1}, \"name\": \"woo\", \"opacity\": 0.8, \"type\": \"line\", \"x0\": \"2020-11-04T09:15:00-05:00\", \"x1\": \"2020-11-04T09:15:00-05:00\", \"y0\": -0.5, \"y1\": 0.8}, {\"line\": {\"color\": \"RoyalBlue\", \"width\": 1}, \"name\": \"woo\", \"opacity\": 0.8, \"type\": \"line\", \"x0\": \"2020-11-06T08:52:00-05:00\", \"x1\": \"2020-11-06T08:52:00-05:00\", \"y0\": -0.5, \"y1\": 0.8}], \"template\": {\"data\": {\"bar\": [{\"error_x\": {\"color\": \"#2a3f5f\"}, \"error_y\": {\"color\": \"#2a3f5f\"}, \"marker\": {\"line\": {\"color\": \"#E5ECF6\", \"width\": 0.5}}, \"type\": \"bar\"}], \"barpolar\": [{\"marker\": {\"line\": {\"color\": \"#E5ECF6\", \"width\": 0.5}}, \"type\": \"barpolar\"}], \"carpet\": [{\"aaxis\": {\"endlinecolor\": \"#2a3f5f\", \"gridcolor\": \"white\", \"linecolor\": \"white\", \"minorgridcolor\": \"white\", \"startlinecolor\": \"#2a3f5f\"}, \"baxis\": {\"endlinecolor\": \"#2a3f5f\", \"gridcolor\": \"white\", \"linecolor\": \"white\", \"minorgridcolor\": \"white\", \"startlinecolor\": \"#2a3f5f\"}, \"type\": \"carpet\"}], \"choropleth\": [{\"colorbar\": {\"outlinewidth\": 0, \"ticks\": \"\"}, \"type\": \"choropleth\"}], \"contour\": [{\"colorbar\": {\"outlinewidth\": 0, \"ticks\": \"\"}, \"colorscale\": [[0.0, \"#0d0887\"], [0.1111111111111111, \"#46039f\"], [0.2222222222222222, \"#7201a8\"], [0.3333333333333333, \"#9c179e\"], [0.4444444444444444, \"#bd3786\"], [0.5555555555555556, \"#d8576b\"], [0.6666666666666666, \"#ed7953\"], [0.7777777777777778, \"#fb9f3a\"], [0.8888888888888888, \"#fdca26\"], [1.0, \"#f0f921\"]], \"type\": \"contour\"}], \"contourcarpet\": [{\"colorbar\": {\"outlinewidth\": 0, \"ticks\": \"\"}, \"type\": \"contourcarpet\"}], \"heatmap\": [{\"colorbar\": {\"outlinewidth\": 0, \"ticks\": \"\"}, \"colorscale\": [[0.0, \"#0d0887\"], [0.1111111111111111, \"#46039f\"], [0.2222222222222222, \"#7201a8\"], [0.3333333333333333, \"#9c179e\"], [0.4444444444444444, \"#bd3786\"], [0.5555555555555556, \"#d8576b\"], [0.6666666666666666, \"#ed7953\"], [0.7777777777777778, \"#fb9f3a\"], [0.8888888888888888, \"#fdca26\"], [1.0, \"#f0f921\"]], \"type\": \"heatmap\"}], \"heatmapgl\": [{\"colorbar\": {\"outlinewidth\": 0, \"ticks\": \"\"}, \"colorscale\": [[0.0, \"#0d0887\"], [0.1111111111111111, \"#46039f\"], [0.2222222222222222, \"#7201a8\"], [0.3333333333333333, \"#9c179e\"], [0.4444444444444444, \"#bd3786\"], [0.5555555555555556, \"#d8576b\"], [0.6666666666666666, \"#ed7953\"], [0.7777777777777778, \"#fb9f3a\"], [0.8888888888888888, \"#fdca26\"], [1.0, \"#f0f921\"]], \"type\": \"heatmapgl\"}], \"histogram\": [{\"marker\": {\"colorbar\": {\"outlinewidth\": 0, \"ticks\": \"\"}}, \"type\": \"histogram\"}], \"histogram2d\": [{\"colorbar\": {\"outlinewidth\": 0, \"ticks\": \"\"}, \"colorscale\": [[0.0, \"#0d0887\"], [0.1111111111111111, \"#46039f\"], [0.2222222222222222, \"#7201a8\"], [0.3333333333333333, \"#9c179e\"], [0.4444444444444444, \"#bd3786\"], [0.5555555555555556, \"#d8576b\"], [0.6666666666666666, \"#ed7953\"], [0.7777777777777778, \"#fb9f3a\"], [0.8888888888888888, \"#fdca26\"], [1.0, \"#f0f921\"]], \"type\": \"histogram2d\"}], \"histogram2dcontour\": [{\"colorbar\": {\"outlinewidth\": 0, \"ticks\": \"\"}, \"colorscale\": [[0.0, \"#0d0887\"], [0.1111111111111111, \"#46039f\"], [0.2222222222222222, \"#7201a8\"], [0.3333333333333333, \"#9c179e\"], [0.4444444444444444, \"#bd3786\"], [0.5555555555555556, \"#d8576b\"], [0.6666666666666666, \"#ed7953\"], [0.7777777777777778, \"#fb9f3a\"], [0.8888888888888888, \"#fdca26\"], [1.0, \"#f0f921\"]], \"type\": \"histogram2dcontour\"}], \"mesh3d\": [{\"colorbar\": {\"outlinewidth\": 0, \"ticks\": \"\"}, \"type\": \"mesh3d\"}], \"parcoords\": [{\"line\": {\"colorbar\": {\"outlinewidth\": 0, \"ticks\": \"\"}}, \"type\": \"parcoords\"}], \"pie\": [{\"automargin\": true, \"type\": \"pie\"}], \"scatter\": [{\"marker\": {\"colorbar\": {\"outlinewidth\": 0, \"ticks\": \"\"}}, \"type\": \"scatter\"}], \"scatter3d\": [{\"line\": {\"colorbar\": {\"outlinewidth\": 0, \"ticks\": \"\"}}, \"marker\": {\"colorbar\": {\"outlinewidth\": 0, \"ticks\": \"\"}}, \"type\": \"scatter3d\"}], \"scattercarpet\": [{\"marker\": {\"colorbar\": {\"outlinewidth\": 0, \"ticks\": \"\"}}, \"type\": \"scattercarpet\"}], \"scattergeo\": [{\"marker\": {\"colorbar\": {\"outlinewidth\": 0, \"ticks\": \"\"}}, \"type\": \"scattergeo\"}], \"scattergl\": [{\"marker\": {\"colorbar\": {\"outlinewidth\": 0, \"ticks\": \"\"}}, \"type\": \"scattergl\"}], \"scattermapbox\": [{\"marker\": {\"colorbar\": {\"outlinewidth\": 0, \"ticks\": \"\"}}, \"type\": \"scattermapbox\"}], \"scatterpolar\": [{\"marker\": {\"colorbar\": {\"outlinewidth\": 0, \"ticks\": \"\"}}, \"type\": \"scatterpolar\"}], \"scatterpolargl\": [{\"marker\": {\"colorbar\": {\"outlinewidth\": 0, \"ticks\": \"\"}}, \"type\": \"scatterpolargl\"}], \"scatterternary\": [{\"marker\": {\"colorbar\": {\"outlinewidth\": 0, \"ticks\": \"\"}}, \"type\": \"scatterternary\"}], \"surface\": [{\"colorbar\": {\"outlinewidth\": 0, \"ticks\": \"\"}, \"colorscale\": [[0.0, \"#0d0887\"], [0.1111111111111111, \"#46039f\"], [0.2222222222222222, \"#7201a8\"], [0.3333333333333333, \"#9c179e\"], [0.4444444444444444, \"#bd3786\"], [0.5555555555555556, \"#d8576b\"], [0.6666666666666666, \"#ed7953\"], [0.7777777777777778, \"#fb9f3a\"], [0.8888888888888888, \"#fdca26\"], [1.0, \"#f0f921\"]], \"type\": \"surface\"}], \"table\": [{\"cells\": {\"fill\": {\"color\": \"#EBF0F8\"}, \"line\": {\"color\": \"white\"}}, \"header\": {\"fill\": {\"color\": \"#C8D4E3\"}, \"line\": {\"color\": \"white\"}}, \"type\": \"table\"}]}, \"layout\": {\"annotationdefaults\": {\"arrowcolor\": \"#2a3f5f\", \"arrowhead\": 0, \"arrowwidth\": 1}, \"coloraxis\": {\"colorbar\": {\"outlinewidth\": 0, \"ticks\": \"\"}}, \"colorscale\": {\"diverging\": [[0, \"#8e0152\"], [0.1, \"#c51b7d\"], [0.2, \"#de77ae\"], [0.3, \"#f1b6da\"], [0.4, \"#fde0ef\"], [0.5, \"#f7f7f7\"], [0.6, \"#e6f5d0\"], [0.7, \"#b8e186\"], [0.8, \"#7fbc41\"], [0.9, \"#4d9221\"], [1, \"#276419\"]], \"sequential\": [[0.0, \"#0d0887\"], [0.1111111111111111, \"#46039f\"], [0.2222222222222222, \"#7201a8\"], [0.3333333333333333, \"#9c179e\"], [0.4444444444444444, \"#bd3786\"], [0.5555555555555556, \"#d8576b\"], [0.6666666666666666, \"#ed7953\"], [0.7777777777777778, \"#fb9f3a\"], [0.8888888888888888, \"#fdca26\"], [1.0, \"#f0f921\"]], \"sequentialminus\": [[0.0, \"#0d0887\"], [0.1111111111111111, \"#46039f\"], [0.2222222222222222, \"#7201a8\"], [0.3333333333333333, \"#9c179e\"], [0.4444444444444444, \"#bd3786\"], [0.5555555555555556, \"#d8576b\"], [0.6666666666666666, \"#ed7953\"], [0.7777777777777778, \"#fb9f3a\"], [0.8888888888888888, \"#fdca26\"], [1.0, \"#f0f921\"]]}, \"colorway\": [\"#636efa\", \"#EF553B\", \"#00cc96\", \"#ab63fa\", \"#FFA15A\", \"#19d3f3\", \"#FF6692\", \"#B6E880\", \"#FF97FF\", \"#FECB52\"], \"font\": {\"color\": \"#2a3f5f\"}, \"geo\": {\"bgcolor\": \"white\", \"lakecolor\": \"white\", \"landcolor\": \"#E5ECF6\", \"showlakes\": true, \"showland\": true, \"subunitcolor\": \"white\"}, \"hoverlabel\": {\"align\": \"left\"}, \"hovermode\": \"closest\", \"mapbox\": {\"style\": \"light\"}, \"paper_bgcolor\": \"white\", \"plot_bgcolor\": \"#E5ECF6\", \"polar\": {\"angularaxis\": {\"gridcolor\": \"white\", \"linecolor\": \"white\", \"ticks\": \"\"}, \"bgcolor\": \"#E5ECF6\", \"radialaxis\": {\"gridcolor\": \"white\", \"linecolor\": \"white\", \"ticks\": \"\"}}, \"scene\": {\"xaxis\": {\"backgroundcolor\": \"#E5ECF6\", \"gridcolor\": \"white\", \"gridwidth\": 2, \"linecolor\": \"white\", \"showbackground\": true, \"ticks\": \"\", \"zerolinecolor\": \"white\"}, \"yaxis\": {\"backgroundcolor\": \"#E5ECF6\", \"gridcolor\": \"white\", \"gridwidth\": 2, \"linecolor\": \"white\", \"showbackground\": true, \"ticks\": \"\", \"zerolinecolor\": \"white\"}, \"zaxis\": {\"backgroundcolor\": \"#E5ECF6\", \"gridcolor\": \"white\", \"gridwidth\": 2, \"linecolor\": \"white\", \"showbackground\": true, \"ticks\": \"\", \"zerolinecolor\": \"white\"}}, \"shapedefaults\": {\"line\": {\"color\": \"#2a3f5f\"}}, \"ternary\": {\"aaxis\": {\"gridcolor\": \"white\", \"linecolor\": \"white\", \"ticks\": \"\"}, \"baxis\": {\"gridcolor\": \"white\", \"linecolor\": \"white\", \"ticks\": \"\"}, \"bgcolor\": \"#E5ECF6\", \"caxis\": {\"gridcolor\": \"white\", \"linecolor\": \"white\", \"ticks\": \"\"}}, \"title\": {\"x\": 0.05}, \"xaxis\": {\"automargin\": true, \"gridcolor\": \"white\", \"linecolor\": \"white\", \"ticks\": \"\", \"title\": {\"standoff\": 15}, \"zerolinecolor\": \"white\", \"zerolinewidth\": 2}, \"yaxis\": {\"automargin\": true, \"gridcolor\": \"white\", \"linecolor\": \"white\", \"ticks\": \"\", \"title\": {\"standoff\": 15}, \"zerolinecolor\": \"white\", \"zerolinewidth\": 2}}}, \"title\": {\"text\": \"Trump's Election Twitter Storm\"}, \"width\": 1000, \"xaxis\": {\"anchor\": \"y\", \"domain\": [0.0, 0.94]}, \"yaxis\": {\"anchor\": \"x\", \"domain\": [0.0, 1.0], \"range\": [-0.5, 0.8], \"title\": {\"text\": \"Average Trump Tweet Sentiment (12 hrs)\"}}, \"yaxis2\": {\"anchor\": \"x\", \"dtick\": 20, \"overlaying\": \"y\", \"side\": \"right\", \"tick0\": -50, \"title\": {\"text\": \"Trump's Electoral College Lead\"}}},\n",
       "                        {\"responsive\": true}\n",
       "                    ).then(function(){\n",
       "                            \n",
       "var gd = document.getElementById('8e1d0246-1343-4bf0-923f-96f1f3a452b1');\n",
       "var x = new MutationObserver(function (mutations, observer) {{\n",
       "        var display = window.getComputedStyle(gd).display;\n",
       "        if (!display || display === 'none') {{\n",
       "            console.log([gd, 'removed!']);\n",
       "            Plotly.purge(gd);\n",
       "            observer.disconnect();\n",
       "        }}\n",
       "}});\n",
       "\n",
       "// Listen for the removal of the full notebook cells\n",
       "var notebookContainer = gd.closest('#notebook-container');\n",
       "if (notebookContainer) {{\n",
       "    x.observe(notebookContainer, {childList: true});\n",
       "}}\n",
       "\n",
       "// Listen for the clearing of the current output cell\n",
       "var outputEl = gd.closest('.output');\n",
       "if (outputEl) {{\n",
       "    x.observe(outputEl, {childList: true});\n",
       "}}\n",
       "\n",
       "                        })\n",
       "                };\n",
       "                });\n",
       "            </script>\n",
       "        </div>"
      ]
     },
     "metadata": {},
     "output_type": "display_data"
    }
   ],
   "source": [
    "fig = make_subplots(specs=[[{\"secondary_y\": True}]])\n",
    "\n",
    "fig.add_trace(\n",
    "    go.Scatter(x=[center-datetime.timedelta(hours=6) for center in centers], y=averages, name=\"Avg Trump Sentiment\",\n",
    "               line=dict(dash='dot',color='black'),mode='lines+markers',\n",
    "              hovertemplate='Midpoint of 12 hr window: %{x}<br>Average Sentiment: %{y}'),\n",
    "    secondary_y=False,\n",
    ")\n",
    "\n",
    "fig.add_trace(go.Scatter(x=['2020-11-03','2020-11-04'], y=[10,10],mode='none',opacity=0.1,name='Election Day',\n",
    "                    fill='tozeroy',showlegend=False, fillcolor='rgba(255, 0, 0, 0.1)'))\n",
    "\n",
    "fig.add_trace(go.Scatter(x=call_times,y=trump_leads\n",
    "    , name=\"Trump Electoral Lead\",line=dict(dash='dot',color='red'),mode='lines+markers',customdata=states,\n",
    "                        hovertemplate='Lead: %{y} votes <br>State Called: %{customdata}<br>Time: %{x}'),\n",
    "    secondary_y=True,\n",
    ")\n",
    "\n",
    "fig.add_trace(go.Scatter(x=['2020-11-03','2020-11-04'], y=[-10,-10],mode='none',opacity=0.1,name='Election Day',\n",
    "                    fill='tozeroy', fillcolor='rgba(255, 0, 0, 0.1)'))\n",
    "\n",
    "\n",
    "\n",
    "\n",
    "fig.add_shape(\n",
    "        # Vertical Line\n",
    "        go.layout.Shape(\n",
    "            type=\"line\",\n",
    "            x0=flip_df['time_flipped'][0],\n",
    "            y0=-0.5,\n",
    "            x1=flip_df['time_flipped'][0],\n",
    "            y1=0.8,\n",
    "            opacity=0.8,\n",
    "            name='woo',\n",
    "            line=dict(\n",
    "                color=\"RoyalBlue\",\n",
    "                width=1\n",
    "            )))\n",
    "\n",
    "fig.add_shape(\n",
    "        # Vertical Line\n",
    "        go.layout.Shape(\n",
    "            type=\"line\",\n",
    "            x0=flip_df['time_flipped'][1],\n",
    "            y0=-0.5,\n",
    "            x1=flip_df['time_flipped'][1],\n",
    "            y1=0.8,\n",
    "            opacity=0.8,\n",
    "            name='woo',\n",
    "            line=dict(\n",
    "                color=\"RoyalBlue\",\n",
    "                width=1\n",
    "            )))\n",
    "\n",
    "fig.add_shape(\n",
    "        # Vertical Line\n",
    "        go.layout.Shape(\n",
    "            type=\"line\",\n",
    "            x0=flip_df['time_flipped'][2],\n",
    "            y0=-0.5,\n",
    "            x1=flip_df['time_flipped'][2],\n",
    "            y1=0.8,\n",
    "            opacity=0.8,\n",
    "            name='woo',\n",
    "            line=dict(\n",
    "                color=\"RoyalBlue\",\n",
    "                width=1\n",
    "            )))\n",
    "\n",
    "\n",
    "fig.add_annotation(x=flip_df['time_flipped'][0], y=0.8,\n",
    "            text=\"Georgia Flips\",\n",
    "            font=dict(size=13),\n",
    "            showarrow=False,\n",
    "            textangle=-45,\n",
    "            xshift=20,\n",
    "            yshift=33)\n",
    "\n",
    "fig.add_annotation(x=flip_df['time_flipped'][1], y=0.8,\n",
    "            text=\"Michigan Flips\",\n",
    "            font=dict(size=13),\n",
    "            showarrow=False,\n",
    "            textangle=-45,\n",
    "            xshift=20,\n",
    "            yshift=33)\n",
    "\n",
    "fig.add_annotation(x=flip_df['time_flipped'][2], y=0.8,\n",
    "            text=\"Pennsylvania Flips\",\n",
    "            font=dict(size=13),\n",
    "            showarrow=False,\n",
    "            textangle=-45,\n",
    "            xshift=42,\n",
    "            yshift=46)\n",
    "\n",
    "\n",
    "fig.update_yaxes(secondary_y=False,range=[-0.5,0.8],title=\"Average Trump Tweet Sentiment (12 hrs)\")\n",
    "fig.update_yaxes(secondary_y=True,title=\"Trump's Electoral College Lead\",tick0 = -50,dtick=20)\n",
    "\n",
    "fig.update_layout(legend=dict(\n",
    "    yanchor=\"top\",\n",
    "    y=0.95,\n",
    "    xanchor=\"right\",\n",
    "    x=0.90\n",
    "))\n",
    "\n",
    "fig.update_layout(title='Trump\\'s Election Twitter Storm',width=1000,margin=dict(b=0.1,r=0.1))"
   ]
  },
  {
   "cell_type": "code",
   "execution_count": 416,
   "metadata": {
    "scrolled": true
   },
   "outputs": [
    {
     "data": {
      "application/vnd.plotly.v1+json": {
       "config": {
        "plotlyServerURL": "https://plot.ly"
       },
       "data": [
        {
         "cells": {
          "align": "center",
          "fill": {
           "color": [
            "white",
            "rgb(206.11111111111111, 22.22222222222223, 22.22222222222223)",
            "rgb(200.0, 0.0, 0.0)",
            "rgb(236.66666666666666, 133.33333333333334, 133.33333333333334)",
            "rgb(230.55555555555554, 111.11111111111111, 111.11111111111111)",
            "rgb(248.88888888888889, 177.77777777777777, 177.77777777777777)",
            "rgb(224.44444444444446, 88.88888888888889, 88.88888888888889)",
            "rgb(255.0, 200.0, 200.0)",
            "rgb(242.77777777777777, 155.55555555555554, 155.55555555555554)",
            "rgb(218.33333333333334, 66.66666666666669, 66.66666666666669)",
            "rgb(212.22222222222223, 44.44444444444446, 44.44444444444446)",
            "rgb(242.77777777777777, 155.55555555555554, 155.55555555555554)"
           ]
          },
          "font": {
           "color": [
            "black",
            "white",
            "white",
            "white",
            "white",
            "white",
            "white",
            "white",
            "white",
            "white",
            "white",
            "white"
           ],
           "size": 11
          },
          "line": {
           "color": "black"
          },
          "values": [
           "# of Tweets",
           44,
           61,
           12,
           13,
           10,
           14,
           6,
           11,
           21,
           23,
           11
          ]
         },
         "header": {
          "align": "center",
          "fill": {
           "color": [
            "white",
            "white",
            "white",
            "white",
            "white",
            "white",
            "white",
            "white",
            "white",
            "white",
            "white",
            "white"
           ]
          },
          "font": {
           "color": [
            "black",
            "black",
            "black",
            "black",
            "black",
            "black",
            "black",
            "black",
            "black",
            "black",
            "black",
            "black"
           ],
           "size": 12
          },
          "line": {
           "color": "black"
          },
          "values": [
           "Date",
           "11/1",
           "11/2",
           "11/3",
           "11/4",
           "11/5",
           "11/6",
           "11/7",
           "11/8",
           "11/9",
           "11/10",
           "11/11"
          ]
         },
         "type": "table"
        }
       ],
       "layout": {
        "margin": {
         "l": 25,
         "t": 0
        },
        "template": {
         "data": {
          "bar": [
           {
            "error_x": {
             "color": "#2a3f5f"
            },
            "error_y": {
             "color": "#2a3f5f"
            },
            "marker": {
             "line": {
              "color": "#E5ECF6",
              "width": 0.5
             }
            },
            "type": "bar"
           }
          ],
          "barpolar": [
           {
            "marker": {
             "line": {
              "color": "#E5ECF6",
              "width": 0.5
             }
            },
            "type": "barpolar"
           }
          ],
          "carpet": [
           {
            "aaxis": {
             "endlinecolor": "#2a3f5f",
             "gridcolor": "white",
             "linecolor": "white",
             "minorgridcolor": "white",
             "startlinecolor": "#2a3f5f"
            },
            "baxis": {
             "endlinecolor": "#2a3f5f",
             "gridcolor": "white",
             "linecolor": "white",
             "minorgridcolor": "white",
             "startlinecolor": "#2a3f5f"
            },
            "type": "carpet"
           }
          ],
          "choropleth": [
           {
            "colorbar": {
             "outlinewidth": 0,
             "ticks": ""
            },
            "type": "choropleth"
           }
          ],
          "contour": [
           {
            "colorbar": {
             "outlinewidth": 0,
             "ticks": ""
            },
            "colorscale": [
             [
              0,
              "#0d0887"
             ],
             [
              0.1111111111111111,
              "#46039f"
             ],
             [
              0.2222222222222222,
              "#7201a8"
             ],
             [
              0.3333333333333333,
              "#9c179e"
             ],
             [
              0.4444444444444444,
              "#bd3786"
             ],
             [
              0.5555555555555556,
              "#d8576b"
             ],
             [
              0.6666666666666666,
              "#ed7953"
             ],
             [
              0.7777777777777778,
              "#fb9f3a"
             ],
             [
              0.8888888888888888,
              "#fdca26"
             ],
             [
              1,
              "#f0f921"
             ]
            ],
            "type": "contour"
           }
          ],
          "contourcarpet": [
           {
            "colorbar": {
             "outlinewidth": 0,
             "ticks": ""
            },
            "type": "contourcarpet"
           }
          ],
          "heatmap": [
           {
            "colorbar": {
             "outlinewidth": 0,
             "ticks": ""
            },
            "colorscale": [
             [
              0,
              "#0d0887"
             ],
             [
              0.1111111111111111,
              "#46039f"
             ],
             [
              0.2222222222222222,
              "#7201a8"
             ],
             [
              0.3333333333333333,
              "#9c179e"
             ],
             [
              0.4444444444444444,
              "#bd3786"
             ],
             [
              0.5555555555555556,
              "#d8576b"
             ],
             [
              0.6666666666666666,
              "#ed7953"
             ],
             [
              0.7777777777777778,
              "#fb9f3a"
             ],
             [
              0.8888888888888888,
              "#fdca26"
             ],
             [
              1,
              "#f0f921"
             ]
            ],
            "type": "heatmap"
           }
          ],
          "heatmapgl": [
           {
            "colorbar": {
             "outlinewidth": 0,
             "ticks": ""
            },
            "colorscale": [
             [
              0,
              "#0d0887"
             ],
             [
              0.1111111111111111,
              "#46039f"
             ],
             [
              0.2222222222222222,
              "#7201a8"
             ],
             [
              0.3333333333333333,
              "#9c179e"
             ],
             [
              0.4444444444444444,
              "#bd3786"
             ],
             [
              0.5555555555555556,
              "#d8576b"
             ],
             [
              0.6666666666666666,
              "#ed7953"
             ],
             [
              0.7777777777777778,
              "#fb9f3a"
             ],
             [
              0.8888888888888888,
              "#fdca26"
             ],
             [
              1,
              "#f0f921"
             ]
            ],
            "type": "heatmapgl"
           }
          ],
          "histogram": [
           {
            "marker": {
             "colorbar": {
              "outlinewidth": 0,
              "ticks": ""
             }
            },
            "type": "histogram"
           }
          ],
          "histogram2d": [
           {
            "colorbar": {
             "outlinewidth": 0,
             "ticks": ""
            },
            "colorscale": [
             [
              0,
              "#0d0887"
             ],
             [
              0.1111111111111111,
              "#46039f"
             ],
             [
              0.2222222222222222,
              "#7201a8"
             ],
             [
              0.3333333333333333,
              "#9c179e"
             ],
             [
              0.4444444444444444,
              "#bd3786"
             ],
             [
              0.5555555555555556,
              "#d8576b"
             ],
             [
              0.6666666666666666,
              "#ed7953"
             ],
             [
              0.7777777777777778,
              "#fb9f3a"
             ],
             [
              0.8888888888888888,
              "#fdca26"
             ],
             [
              1,
              "#f0f921"
             ]
            ],
            "type": "histogram2d"
           }
          ],
          "histogram2dcontour": [
           {
            "colorbar": {
             "outlinewidth": 0,
             "ticks": ""
            },
            "colorscale": [
             [
              0,
              "#0d0887"
             ],
             [
              0.1111111111111111,
              "#46039f"
             ],
             [
              0.2222222222222222,
              "#7201a8"
             ],
             [
              0.3333333333333333,
              "#9c179e"
             ],
             [
              0.4444444444444444,
              "#bd3786"
             ],
             [
              0.5555555555555556,
              "#d8576b"
             ],
             [
              0.6666666666666666,
              "#ed7953"
             ],
             [
              0.7777777777777778,
              "#fb9f3a"
             ],
             [
              0.8888888888888888,
              "#fdca26"
             ],
             [
              1,
              "#f0f921"
             ]
            ],
            "type": "histogram2dcontour"
           }
          ],
          "mesh3d": [
           {
            "colorbar": {
             "outlinewidth": 0,
             "ticks": ""
            },
            "type": "mesh3d"
           }
          ],
          "parcoords": [
           {
            "line": {
             "colorbar": {
              "outlinewidth": 0,
              "ticks": ""
             }
            },
            "type": "parcoords"
           }
          ],
          "pie": [
           {
            "automargin": true,
            "type": "pie"
           }
          ],
          "scatter": [
           {
            "marker": {
             "colorbar": {
              "outlinewidth": 0,
              "ticks": ""
             }
            },
            "type": "scatter"
           }
          ],
          "scatter3d": [
           {
            "line": {
             "colorbar": {
              "outlinewidth": 0,
              "ticks": ""
             }
            },
            "marker": {
             "colorbar": {
              "outlinewidth": 0,
              "ticks": ""
             }
            },
            "type": "scatter3d"
           }
          ],
          "scattercarpet": [
           {
            "marker": {
             "colorbar": {
              "outlinewidth": 0,
              "ticks": ""
             }
            },
            "type": "scattercarpet"
           }
          ],
          "scattergeo": [
           {
            "marker": {
             "colorbar": {
              "outlinewidth": 0,
              "ticks": ""
             }
            },
            "type": "scattergeo"
           }
          ],
          "scattergl": [
           {
            "marker": {
             "colorbar": {
              "outlinewidth": 0,
              "ticks": ""
             }
            },
            "type": "scattergl"
           }
          ],
          "scattermapbox": [
           {
            "marker": {
             "colorbar": {
              "outlinewidth": 0,
              "ticks": ""
             }
            },
            "type": "scattermapbox"
           }
          ],
          "scatterpolar": [
           {
            "marker": {
             "colorbar": {
              "outlinewidth": 0,
              "ticks": ""
             }
            },
            "type": "scatterpolar"
           }
          ],
          "scatterpolargl": [
           {
            "marker": {
             "colorbar": {
              "outlinewidth": 0,
              "ticks": ""
             }
            },
            "type": "scatterpolargl"
           }
          ],
          "scatterternary": [
           {
            "marker": {
             "colorbar": {
              "outlinewidth": 0,
              "ticks": ""
             }
            },
            "type": "scatterternary"
           }
          ],
          "surface": [
           {
            "colorbar": {
             "outlinewidth": 0,
             "ticks": ""
            },
            "colorscale": [
             [
              0,
              "#0d0887"
             ],
             [
              0.1111111111111111,
              "#46039f"
             ],
             [
              0.2222222222222222,
              "#7201a8"
             ],
             [
              0.3333333333333333,
              "#9c179e"
             ],
             [
              0.4444444444444444,
              "#bd3786"
             ],
             [
              0.5555555555555556,
              "#d8576b"
             ],
             [
              0.6666666666666666,
              "#ed7953"
             ],
             [
              0.7777777777777778,
              "#fb9f3a"
             ],
             [
              0.8888888888888888,
              "#fdca26"
             ],
             [
              1,
              "#f0f921"
             ]
            ],
            "type": "surface"
           }
          ],
          "table": [
           {
            "cells": {
             "fill": {
              "color": "#EBF0F8"
             },
             "line": {
              "color": "white"
             }
            },
            "header": {
             "fill": {
              "color": "#C8D4E3"
             },
             "line": {
              "color": "white"
             }
            },
            "type": "table"
           }
          ]
         },
         "layout": {
          "annotationdefaults": {
           "arrowcolor": "#2a3f5f",
           "arrowhead": 0,
           "arrowwidth": 1
          },
          "coloraxis": {
           "colorbar": {
            "outlinewidth": 0,
            "ticks": ""
           }
          },
          "colorscale": {
           "diverging": [
            [
             0,
             "#8e0152"
            ],
            [
             0.1,
             "#c51b7d"
            ],
            [
             0.2,
             "#de77ae"
            ],
            [
             0.3,
             "#f1b6da"
            ],
            [
             0.4,
             "#fde0ef"
            ],
            [
             0.5,
             "#f7f7f7"
            ],
            [
             0.6,
             "#e6f5d0"
            ],
            [
             0.7,
             "#b8e186"
            ],
            [
             0.8,
             "#7fbc41"
            ],
            [
             0.9,
             "#4d9221"
            ],
            [
             1,
             "#276419"
            ]
           ],
           "sequential": [
            [
             0,
             "#0d0887"
            ],
            [
             0.1111111111111111,
             "#46039f"
            ],
            [
             0.2222222222222222,
             "#7201a8"
            ],
            [
             0.3333333333333333,
             "#9c179e"
            ],
            [
             0.4444444444444444,
             "#bd3786"
            ],
            [
             0.5555555555555556,
             "#d8576b"
            ],
            [
             0.6666666666666666,
             "#ed7953"
            ],
            [
             0.7777777777777778,
             "#fb9f3a"
            ],
            [
             0.8888888888888888,
             "#fdca26"
            ],
            [
             1,
             "#f0f921"
            ]
           ],
           "sequentialminus": [
            [
             0,
             "#0d0887"
            ],
            [
             0.1111111111111111,
             "#46039f"
            ],
            [
             0.2222222222222222,
             "#7201a8"
            ],
            [
             0.3333333333333333,
             "#9c179e"
            ],
            [
             0.4444444444444444,
             "#bd3786"
            ],
            [
             0.5555555555555556,
             "#d8576b"
            ],
            [
             0.6666666666666666,
             "#ed7953"
            ],
            [
             0.7777777777777778,
             "#fb9f3a"
            ],
            [
             0.8888888888888888,
             "#fdca26"
            ],
            [
             1,
             "#f0f921"
            ]
           ]
          },
          "colorway": [
           "#636efa",
           "#EF553B",
           "#00cc96",
           "#ab63fa",
           "#FFA15A",
           "#19d3f3",
           "#FF6692",
           "#B6E880",
           "#FF97FF",
           "#FECB52"
          ],
          "font": {
           "color": "#2a3f5f"
          },
          "geo": {
           "bgcolor": "white",
           "lakecolor": "white",
           "landcolor": "#E5ECF6",
           "showlakes": true,
           "showland": true,
           "subunitcolor": "white"
          },
          "hoverlabel": {
           "align": "left"
          },
          "hovermode": "closest",
          "mapbox": {
           "style": "light"
          },
          "paper_bgcolor": "white",
          "plot_bgcolor": "#E5ECF6",
          "polar": {
           "angularaxis": {
            "gridcolor": "white",
            "linecolor": "white",
            "ticks": ""
           },
           "bgcolor": "#E5ECF6",
           "radialaxis": {
            "gridcolor": "white",
            "linecolor": "white",
            "ticks": ""
           }
          },
          "scene": {
           "xaxis": {
            "backgroundcolor": "#E5ECF6",
            "gridcolor": "white",
            "gridwidth": 2,
            "linecolor": "white",
            "showbackground": true,
            "ticks": "",
            "zerolinecolor": "white"
           },
           "yaxis": {
            "backgroundcolor": "#E5ECF6",
            "gridcolor": "white",
            "gridwidth": 2,
            "linecolor": "white",
            "showbackground": true,
            "ticks": "",
            "zerolinecolor": "white"
           },
           "zaxis": {
            "backgroundcolor": "#E5ECF6",
            "gridcolor": "white",
            "gridwidth": 2,
            "linecolor": "white",
            "showbackground": true,
            "ticks": "",
            "zerolinecolor": "white"
           }
          },
          "shapedefaults": {
           "line": {
            "color": "#2a3f5f"
           }
          },
          "ternary": {
           "aaxis": {
            "gridcolor": "white",
            "linecolor": "white",
            "ticks": ""
           },
           "baxis": {
            "gridcolor": "white",
            "linecolor": "white",
            "ticks": ""
           },
           "bgcolor": "#E5ECF6",
           "caxis": {
            "gridcolor": "white",
            "linecolor": "white",
            "ticks": ""
           }
          },
          "title": {
           "x": 0.05
          },
          "xaxis": {
           "automargin": true,
           "gridcolor": "white",
           "linecolor": "white",
           "ticks": "",
           "title": {
            "standoff": 15
           },
           "zerolinecolor": "white",
           "zerolinewidth": 2
          },
          "yaxis": {
           "automargin": true,
           "gridcolor": "white",
           "linecolor": "white",
           "ticks": "",
           "title": {
            "standoff": 15
           },
           "zerolinecolor": "white",
           "zerolinewidth": 2
          }
         }
        }
       }
      },
      "text/html": [
       "<div>\n",
       "        \n",
       "        \n",
       "            <div id=\"18397211-c5f6-4f80-82fc-d79307582881\" class=\"plotly-graph-div\" style=\"height:525px; width:100%;\"></div>\n",
       "            <script type=\"text/javascript\">\n",
       "                require([\"plotly\"], function(Plotly) {\n",
       "                    window.PLOTLYENV=window.PLOTLYENV || {};\n",
       "                    \n",
       "                if (document.getElementById(\"18397211-c5f6-4f80-82fc-d79307582881\")) {\n",
       "                    Plotly.newPlot(\n",
       "                        '18397211-c5f6-4f80-82fc-d79307582881',\n",
       "                        [{\"cells\": {\"align\": \"center\", \"fill\": {\"color\": [\"white\", \"rgb(206.11111111111111, 22.22222222222223, 22.22222222222223)\", \"rgb(200.0, 0.0, 0.0)\", \"rgb(236.66666666666666, 133.33333333333334, 133.33333333333334)\", \"rgb(230.55555555555554, 111.11111111111111, 111.11111111111111)\", \"rgb(248.88888888888889, 177.77777777777777, 177.77777777777777)\", \"rgb(224.44444444444446, 88.88888888888889, 88.88888888888889)\", \"rgb(255.0, 200.0, 200.0)\", \"rgb(242.77777777777777, 155.55555555555554, 155.55555555555554)\", \"rgb(218.33333333333334, 66.66666666666669, 66.66666666666669)\", \"rgb(212.22222222222223, 44.44444444444446, 44.44444444444446)\", \"rgb(242.77777777777777, 155.55555555555554, 155.55555555555554)\"]}, \"font\": {\"color\": [\"black\", \"white\", \"white\", \"white\", \"white\", \"white\", \"white\", \"white\", \"white\", \"white\", \"white\", \"white\"], \"size\": 11}, \"line\": {\"color\": \"black\"}, \"values\": [\"# of Tweets\", 44, 61, 12, 13, 10, 14, 6, 11, 21, 23, 11]}, \"header\": {\"align\": \"center\", \"fill\": {\"color\": [\"white\", \"white\", \"white\", \"white\", \"white\", \"white\", \"white\", \"white\", \"white\", \"white\", \"white\", \"white\"]}, \"font\": {\"color\": [\"black\", \"black\", \"black\", \"black\", \"black\", \"black\", \"black\", \"black\", \"black\", \"black\", \"black\", \"black\"], \"size\": 12}, \"line\": {\"color\": \"black\"}, \"values\": [\"Date\", \"11/1\", \"11/2\", \"11/3\", \"11/4\", \"11/5\", \"11/6\", \"11/7\", \"11/8\", \"11/9\", \"11/10\", \"11/11\"]}, \"type\": \"table\"}],\n",
       "                        {\"margin\": {\"l\": 25, \"t\": 0}, \"template\": {\"data\": {\"bar\": [{\"error_x\": {\"color\": \"#2a3f5f\"}, \"error_y\": {\"color\": \"#2a3f5f\"}, \"marker\": {\"line\": {\"color\": \"#E5ECF6\", \"width\": 0.5}}, \"type\": \"bar\"}], \"barpolar\": [{\"marker\": {\"line\": {\"color\": \"#E5ECF6\", \"width\": 0.5}}, \"type\": \"barpolar\"}], \"carpet\": [{\"aaxis\": {\"endlinecolor\": \"#2a3f5f\", \"gridcolor\": \"white\", \"linecolor\": \"white\", \"minorgridcolor\": \"white\", \"startlinecolor\": \"#2a3f5f\"}, \"baxis\": {\"endlinecolor\": \"#2a3f5f\", \"gridcolor\": \"white\", \"linecolor\": \"white\", \"minorgridcolor\": \"white\", \"startlinecolor\": \"#2a3f5f\"}, \"type\": \"carpet\"}], \"choropleth\": [{\"colorbar\": {\"outlinewidth\": 0, \"ticks\": \"\"}, \"type\": \"choropleth\"}], \"contour\": [{\"colorbar\": {\"outlinewidth\": 0, \"ticks\": \"\"}, \"colorscale\": [[0.0, \"#0d0887\"], [0.1111111111111111, \"#46039f\"], [0.2222222222222222, \"#7201a8\"], [0.3333333333333333, \"#9c179e\"], [0.4444444444444444, \"#bd3786\"], [0.5555555555555556, \"#d8576b\"], [0.6666666666666666, \"#ed7953\"], [0.7777777777777778, \"#fb9f3a\"], [0.8888888888888888, \"#fdca26\"], [1.0, \"#f0f921\"]], \"type\": \"contour\"}], \"contourcarpet\": [{\"colorbar\": {\"outlinewidth\": 0, \"ticks\": \"\"}, \"type\": \"contourcarpet\"}], \"heatmap\": [{\"colorbar\": {\"outlinewidth\": 0, \"ticks\": \"\"}, \"colorscale\": [[0.0, \"#0d0887\"], [0.1111111111111111, \"#46039f\"], [0.2222222222222222, \"#7201a8\"], [0.3333333333333333, \"#9c179e\"], [0.4444444444444444, \"#bd3786\"], [0.5555555555555556, \"#d8576b\"], [0.6666666666666666, \"#ed7953\"], [0.7777777777777778, \"#fb9f3a\"], [0.8888888888888888, \"#fdca26\"], [1.0, \"#f0f921\"]], \"type\": \"heatmap\"}], \"heatmapgl\": [{\"colorbar\": {\"outlinewidth\": 0, \"ticks\": \"\"}, \"colorscale\": [[0.0, \"#0d0887\"], [0.1111111111111111, \"#46039f\"], [0.2222222222222222, \"#7201a8\"], [0.3333333333333333, \"#9c179e\"], [0.4444444444444444, \"#bd3786\"], [0.5555555555555556, \"#d8576b\"], [0.6666666666666666, \"#ed7953\"], [0.7777777777777778, \"#fb9f3a\"], [0.8888888888888888, \"#fdca26\"], [1.0, \"#f0f921\"]], \"type\": \"heatmapgl\"}], \"histogram\": [{\"marker\": {\"colorbar\": {\"outlinewidth\": 0, \"ticks\": \"\"}}, \"type\": \"histogram\"}], \"histogram2d\": [{\"colorbar\": {\"outlinewidth\": 0, \"ticks\": \"\"}, \"colorscale\": [[0.0, \"#0d0887\"], [0.1111111111111111, \"#46039f\"], [0.2222222222222222, \"#7201a8\"], [0.3333333333333333, \"#9c179e\"], [0.4444444444444444, \"#bd3786\"], [0.5555555555555556, \"#d8576b\"], [0.6666666666666666, \"#ed7953\"], [0.7777777777777778, \"#fb9f3a\"], [0.8888888888888888, \"#fdca26\"], [1.0, \"#f0f921\"]], \"type\": \"histogram2d\"}], \"histogram2dcontour\": [{\"colorbar\": {\"outlinewidth\": 0, \"ticks\": \"\"}, \"colorscale\": [[0.0, \"#0d0887\"], [0.1111111111111111, \"#46039f\"], [0.2222222222222222, \"#7201a8\"], [0.3333333333333333, \"#9c179e\"], [0.4444444444444444, \"#bd3786\"], [0.5555555555555556, \"#d8576b\"], [0.6666666666666666, \"#ed7953\"], [0.7777777777777778, \"#fb9f3a\"], [0.8888888888888888, \"#fdca26\"], [1.0, \"#f0f921\"]], \"type\": \"histogram2dcontour\"}], \"mesh3d\": [{\"colorbar\": {\"outlinewidth\": 0, \"ticks\": \"\"}, \"type\": \"mesh3d\"}], \"parcoords\": [{\"line\": {\"colorbar\": {\"outlinewidth\": 0, \"ticks\": \"\"}}, \"type\": \"parcoords\"}], \"pie\": [{\"automargin\": true, \"type\": \"pie\"}], \"scatter\": [{\"marker\": {\"colorbar\": {\"outlinewidth\": 0, \"ticks\": \"\"}}, \"type\": \"scatter\"}], \"scatter3d\": [{\"line\": {\"colorbar\": {\"outlinewidth\": 0, \"ticks\": \"\"}}, \"marker\": {\"colorbar\": {\"outlinewidth\": 0, \"ticks\": \"\"}}, \"type\": \"scatter3d\"}], \"scattercarpet\": [{\"marker\": {\"colorbar\": {\"outlinewidth\": 0, \"ticks\": \"\"}}, \"type\": \"scattercarpet\"}], \"scattergeo\": [{\"marker\": {\"colorbar\": {\"outlinewidth\": 0, \"ticks\": \"\"}}, \"type\": \"scattergeo\"}], \"scattergl\": [{\"marker\": {\"colorbar\": {\"outlinewidth\": 0, \"ticks\": \"\"}}, \"type\": \"scattergl\"}], \"scattermapbox\": [{\"marker\": {\"colorbar\": {\"outlinewidth\": 0, \"ticks\": \"\"}}, \"type\": \"scattermapbox\"}], \"scatterpolar\": [{\"marker\": {\"colorbar\": {\"outlinewidth\": 0, \"ticks\": \"\"}}, \"type\": \"scatterpolar\"}], \"scatterpolargl\": [{\"marker\": {\"colorbar\": {\"outlinewidth\": 0, \"ticks\": \"\"}}, \"type\": \"scatterpolargl\"}], \"scatterternary\": [{\"marker\": {\"colorbar\": {\"outlinewidth\": 0, \"ticks\": \"\"}}, \"type\": \"scatterternary\"}], \"surface\": [{\"colorbar\": {\"outlinewidth\": 0, \"ticks\": \"\"}, \"colorscale\": [[0.0, \"#0d0887\"], [0.1111111111111111, \"#46039f\"], [0.2222222222222222, \"#7201a8\"], [0.3333333333333333, \"#9c179e\"], [0.4444444444444444, \"#bd3786\"], [0.5555555555555556, \"#d8576b\"], [0.6666666666666666, \"#ed7953\"], [0.7777777777777778, \"#fb9f3a\"], [0.8888888888888888, \"#fdca26\"], [1.0, \"#f0f921\"]], \"type\": \"surface\"}], \"table\": [{\"cells\": {\"fill\": {\"color\": \"#EBF0F8\"}, \"line\": {\"color\": \"white\"}}, \"header\": {\"fill\": {\"color\": \"#C8D4E3\"}, \"line\": {\"color\": \"white\"}}, \"type\": \"table\"}]}, \"layout\": {\"annotationdefaults\": {\"arrowcolor\": \"#2a3f5f\", \"arrowhead\": 0, \"arrowwidth\": 1}, \"coloraxis\": {\"colorbar\": {\"outlinewidth\": 0, \"ticks\": \"\"}}, \"colorscale\": {\"diverging\": [[0, \"#8e0152\"], [0.1, \"#c51b7d\"], [0.2, \"#de77ae\"], [0.3, \"#f1b6da\"], [0.4, \"#fde0ef\"], [0.5, \"#f7f7f7\"], [0.6, \"#e6f5d0\"], [0.7, \"#b8e186\"], [0.8, \"#7fbc41\"], [0.9, \"#4d9221\"], [1, \"#276419\"]], \"sequential\": [[0.0, \"#0d0887\"], [0.1111111111111111, \"#46039f\"], [0.2222222222222222, \"#7201a8\"], [0.3333333333333333, \"#9c179e\"], [0.4444444444444444, \"#bd3786\"], [0.5555555555555556, \"#d8576b\"], [0.6666666666666666, \"#ed7953\"], [0.7777777777777778, \"#fb9f3a\"], [0.8888888888888888, \"#fdca26\"], [1.0, \"#f0f921\"]], \"sequentialminus\": [[0.0, \"#0d0887\"], [0.1111111111111111, \"#46039f\"], [0.2222222222222222, \"#7201a8\"], [0.3333333333333333, \"#9c179e\"], [0.4444444444444444, \"#bd3786\"], [0.5555555555555556, \"#d8576b\"], [0.6666666666666666, \"#ed7953\"], [0.7777777777777778, \"#fb9f3a\"], [0.8888888888888888, \"#fdca26\"], [1.0, \"#f0f921\"]]}, \"colorway\": [\"#636efa\", \"#EF553B\", \"#00cc96\", \"#ab63fa\", \"#FFA15A\", \"#19d3f3\", \"#FF6692\", \"#B6E880\", \"#FF97FF\", \"#FECB52\"], \"font\": {\"color\": \"#2a3f5f\"}, \"geo\": {\"bgcolor\": \"white\", \"lakecolor\": \"white\", \"landcolor\": \"#E5ECF6\", \"showlakes\": true, \"showland\": true, \"subunitcolor\": \"white\"}, \"hoverlabel\": {\"align\": \"left\"}, \"hovermode\": \"closest\", \"mapbox\": {\"style\": \"light\"}, \"paper_bgcolor\": \"white\", \"plot_bgcolor\": \"#E5ECF6\", \"polar\": {\"angularaxis\": {\"gridcolor\": \"white\", \"linecolor\": \"white\", \"ticks\": \"\"}, \"bgcolor\": \"#E5ECF6\", \"radialaxis\": {\"gridcolor\": \"white\", \"linecolor\": \"white\", \"ticks\": \"\"}}, \"scene\": {\"xaxis\": {\"backgroundcolor\": \"#E5ECF6\", \"gridcolor\": \"white\", \"gridwidth\": 2, \"linecolor\": \"white\", \"showbackground\": true, \"ticks\": \"\", \"zerolinecolor\": \"white\"}, \"yaxis\": {\"backgroundcolor\": \"#E5ECF6\", \"gridcolor\": \"white\", \"gridwidth\": 2, \"linecolor\": \"white\", \"showbackground\": true, \"ticks\": \"\", \"zerolinecolor\": \"white\"}, \"zaxis\": {\"backgroundcolor\": \"#E5ECF6\", \"gridcolor\": \"white\", \"gridwidth\": 2, \"linecolor\": \"white\", \"showbackground\": true, \"ticks\": \"\", \"zerolinecolor\": \"white\"}}, \"shapedefaults\": {\"line\": {\"color\": \"#2a3f5f\"}}, \"ternary\": {\"aaxis\": {\"gridcolor\": \"white\", \"linecolor\": \"white\", \"ticks\": \"\"}, \"baxis\": {\"gridcolor\": \"white\", \"linecolor\": \"white\", \"ticks\": \"\"}, \"bgcolor\": \"#E5ECF6\", \"caxis\": {\"gridcolor\": \"white\", \"linecolor\": \"white\", \"ticks\": \"\"}}, \"title\": {\"x\": 0.05}, \"xaxis\": {\"automargin\": true, \"gridcolor\": \"white\", \"linecolor\": \"white\", \"ticks\": \"\", \"title\": {\"standoff\": 15}, \"zerolinecolor\": \"white\", \"zerolinewidth\": 2}, \"yaxis\": {\"automargin\": true, \"gridcolor\": \"white\", \"linecolor\": \"white\", \"ticks\": \"\", \"title\": {\"standoff\": 15}, \"zerolinecolor\": \"white\", \"zerolinewidth\": 2}}}},\n",
       "                        {\"responsive\": true}\n",
       "                    ).then(function(){\n",
       "                            \n",
       "var gd = document.getElementById('18397211-c5f6-4f80-82fc-d79307582881');\n",
       "var x = new MutationObserver(function (mutations, observer) {{\n",
       "        var display = window.getComputedStyle(gd).display;\n",
       "        if (!display || display === 'none') {{\n",
       "            console.log([gd, 'removed!']);\n",
       "            Plotly.purge(gd);\n",
       "            observer.disconnect();\n",
       "        }}\n",
       "}});\n",
       "\n",
       "// Listen for the removal of the full notebook cells\n",
       "var notebookContainer = gd.closest('#notebook-container');\n",
       "if (notebookContainer) {{\n",
       "    x.observe(notebookContainer, {childList: true});\n",
       "}}\n",
       "\n",
       "// Listen for the clearing of the current output cell\n",
       "var outputEl = gd.closest('.output');\n",
       "if (outputEl) {{\n",
       "    x.observe(outputEl, {childList: true});\n",
       "}}\n",
       "\n",
       "                        })\n",
       "                };\n",
       "                });\n",
       "            </script>\n",
       "        </div>"
      ]
     },
     "metadata": {},
     "output_type": "display_data"
    }
   ],
   "source": [
    "colors = n_colors('rgb(255, 200, 200)', 'rgb(200, 0, 0)', len(set(number_tweets)), colortype='rgb')\n",
    "\n",
    "day_range2 = [str(date.month)+'/'+str(date.day) for date in day_range]\n",
    "color_seq = sorted(set(number_tweets))\n",
    "color_map={k:v for k,v in zip(color_seq,colors)}\n",
    "\n",
    "\n",
    "table = go.Figure(data=[go.Table(\n",
    "  header=dict(\n",
    "    values=['Date']+day_range2,\n",
    "    line_color='black', fill_color=['white']+['white']*len(day_range2),\n",
    "    align='center',font=dict(color=['black']+['black']*len(day_range2) ,size=12)\n",
    "  ),\n",
    "  cells=dict(\n",
    "    values=['# of Tweets']+number_tweets,\n",
    "    line_color='black',\n",
    "    fill_color=['white']+[color_map[number_tweets[i]] for i in range(len(number_tweets))],\n",
    "    align='center', font=dict(color=['black']+['white']*len(day_range2), size=11)\n",
    "    ))\n",
    "])\n",
    "\n",
    "table.update_layout(margin=dict(t=0,l=25))\n",
    "table.show()"
   ]
  },
  {
   "cell_type": "code",
   "execution_count": 417,
   "metadata": {},
   "outputs": [],
   "source": [
    "paragraph=\"\"\"**Hypothesis:** As Trump's chances of a second term narrowed in the days following the election,\n",
    "he has become increasingly negative on Twitter.\n",
    "\\n In the days following the election, we saw Biden near victory and Donald Trump refuse to accept results \n",
    "in many different states. With his back against the wall, did his profound tweets change in their sentiment?\n",
    "All state race call times are from the Associated Press.\n",
    "\n",
    "\\n Sentiment analysis allows us to score a statement on a scale from -1 to 1, where -1 represents a \n",
    "very negative statement, and 1 represents a very positive statement.\n",
    "For each Trump tweet from November 1st through November 12th, a sentiment score is calculated. Sentiment analysis is rather \n",
    "noisy, so some form of aggregation is needed discover any sort of pattern. Here we calculate the average sentiment in \n",
    "disjoint 12 hour windows. This was done so each day has a point that represents his sentiment in the morning and night. Each \n",
    "of these points is plotted at the midpoint of their 12 hour window (6 a.m. and 6 p.m.). Note: Tweets that only\n",
    "contain media and retweets are removed.\n",
    "\n",
    "NLTK's Vader is used for sentiment analysis to preserve exclamations and capitalization, which is particularly important for \n",
    "Trump's tweets like \"I WON THIS ELECTION, BY A LOT!\"\"\n",
    "\n",
    "Sources: [@AP_politics](https://twitter.com/AP_Politics?ref_src=twsrc%5Egoogle%7Ctwcamp%5Eserp%7Ctwgr%5Eauthor),\n",
    "[@realDonaldTrump](https://twitter.com/realDonaldTrump),\n",
    "[Alex Gaynor & NYT](https://github.com/alex/nyt-2020-election-scraper)\n",
    "\"\"\""
   ]
  },
  {
   "cell_type": "code",
   "execution_count": 418,
   "metadata": {},
   "outputs": [
    {
     "name": "stdout",
     "output_type": "stream",
     "text": [
      " * Serving Flask app \"__main__\" (lazy loading)\n",
      " * Environment: production\n",
      "   WARNING: This is a development server. Do not use it in a production deployment.\n",
      "   Use a production WSGI server instead.\n",
      " * Debug mode: off\n"
     ]
    },
    {
     "name": "stderr",
     "output_type": "stream",
     "text": [
      " * Running on http://127.0.0.1:8050/ (Press CTRL+C to quit)\n",
      "127.0.0.1 - - [21/Nov/2020 20:26:01] \"\u001b[37mGET / HTTP/1.1\u001b[0m\" 200 -\n",
      "127.0.0.1 - - [21/Nov/2020 20:26:01] \"\u001b[37mGET /_dash-component-suites/dash_renderer/react@16.8.6.min.js?v=1.1.2&m=1576595738 HTTP/1.1\u001b[0m\" 200 -\n",
      "127.0.0.1 - - [21/Nov/2020 20:26:01] \"\u001b[37mGET /_dash-component-suites/dash_renderer/prop-types@15.7.2.min.js?v=1.1.2&m=1576595738 HTTP/1.1\u001b[0m\" 200 -\n",
      "127.0.0.1 - - [21/Nov/2020 20:26:01] \"\u001b[37mGET /_dash-component-suites/dash_renderer/react-dom@16.8.6.min.js?v=1.1.2&m=1576595738 HTTP/1.1\u001b[0m\" 200 -\n",
      "127.0.0.1 - - [21/Nov/2020 20:26:01] \"\u001b[37mGET /_dash-component-suites/dash_core_components/highlight.pack.js?v=1.3.1&m=1576595950 HTTP/1.1\u001b[0m\" 200 -\n",
      "127.0.0.1 - - [21/Nov/2020 20:26:01] \"\u001b[37mGET /_dash-component-suites/dash_html_components/dash_html_components.min.js?v=1.0.1&m=1576596177 HTTP/1.1\u001b[0m\" 200 -\n",
      "127.0.0.1 - - [21/Nov/2020 20:26:01] \"\u001b[37mGET /_dash-component-suites/dash_renderer/dash_renderer.min.js?v=1.1.2&m=1576595738 HTTP/1.1\u001b[0m\" 200 -\n",
      "127.0.0.1 - - [21/Nov/2020 20:26:01] \"\u001b[37mGET /_dash-component-suites/dash_core_components/dash_core_components.min.js?v=1.3.1&m=1576595950 HTTP/1.1\u001b[0m\" 200 -\n",
      "127.0.0.1 - - [21/Nov/2020 20:26:01] \"\u001b[37mGET /_dash-component-suites/dash_core_components/plotly-1.50.1.min.js?v=1.3.1&m=1576595950 HTTP/1.1\u001b[0m\" 200 -\n",
      "127.0.0.1 - - [21/Nov/2020 20:26:01] \"\u001b[37mGET /_dash-dependencies HTTP/1.1\u001b[0m\" 200 -\n",
      "127.0.0.1 - - [21/Nov/2020 20:26:01] \"\u001b[37mGET /_dash-layout HTTP/1.1\u001b[0m\" 200 -\n",
      "127.0.0.1 - - [21/Nov/2020 20:26:01] \"\u001b[37mGET /_favicon.ico?v=1.4.1 HTTP/1.1\u001b[0m\" 200 -\n",
      "127.0.0.1 - - [21/Nov/2020 20:26:02] \"\u001b[37mGET /_favicon.ico?v=1.4.1 HTTP/1.1\u001b[0m\" 200 -\n"
     ]
    }
   ],
   "source": [
    "import dash\n",
    "import dash_core_components as dcc\n",
    "import dash_html_components as html\n",
    "import plotly.graph_objs as go\n",
    "import pandas as pd\n",
    "\n",
    "\n",
    "app = dash.Dash()\n",
    "\n",
    "app.layout = html.Div(children=[\n",
    "    html.Div([\n",
    "        dcc.Graph(figure=fig,id='g1',style={'display':'block','height': 650}),dcc.Graph(figure=table,id='table',style={'display':'block','height': 350,'width':1170})], style={'display': 'inline-block','height':900,'width':1190}),\n",
    "    html.Div([\n",
    "        html.P(\n",
    "           dcc.Markdown(paragraph),style={'height':350,'fontSize':16,'display':'block'})],style={'margin-left':2,'margin-right':0,'height':900,'width':300,'vertical-align':'top','display': 'inline-block'})\n",
    "        \n",
    "], style={'width': '100%', 'display': 'inline-block'})\n",
    "\n",
    "\n",
    "\n",
    "if __name__ == '__main__':\n",
    "    \n",
    "    app.run_server(debug=False)"
   ]
  },
  {
   "cell_type": "code",
   "execution_count": null,
   "metadata": {},
   "outputs": [],
   "source": []
  }
 ],
 "metadata": {
  "kernelspec": {
   "display_name": "Python 3",
   "language": "python",
   "name": "python3"
  },
  "language_info": {
   "codemirror_mode": {
    "name": "ipython",
    "version": 3
   },
   "file_extension": ".py",
   "mimetype": "text/x-python",
   "name": "python",
   "nbconvert_exporter": "python",
   "pygments_lexer": "ipython3",
   "version": "3.8.3"
  }
 },
 "nbformat": 4,
 "nbformat_minor": 4
}
