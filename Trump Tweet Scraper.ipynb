{
 "cells": [
  {
   "cell_type": "code",
   "execution_count": 2,
   "metadata": {},
   "outputs": [],
   "source": [
    "import datetime\n",
    "import tweepy\n",
    "from API_keys_Brenden import api_key, api_key_secret, access_token, access_token_secret\n",
    "import time\n",
    "from dateutil import tz\n",
    "\n",
    "\n",
    "from_zone = tz.gettz('UTC')\n",
    "to_zone = tz.gettz('America/New_York')"
   ]
  },
  {
   "cell_type": "code",
   "execution_count": 8,
   "metadata": {},
   "outputs": [],
   "source": [
    "# Authenticate the Tweepy API\n",
    "auth = tweepy.OAuthHandler(api_key,api_key_secret)\n",
    "auth.set_access_token(access_token, access_token_secret)\n",
    "api = tweepy.API(auth,wait_on_rate_limit=True ,wait_on_rate_limit_notify=True)"
   ]
  },
  {
   "cell_type": "code",
   "execution_count": 27,
   "metadata": {},
   "outputs": [],
   "source": [
    "userID = \"realDonaldTrump\"\n"
   ]
  },
  {
   "cell_type": "code",
   "execution_count": 28,
   "metadata": {},
   "outputs": [],
   "source": [
    "pages=[]\n",
    "for page in tweepy.Cursor(api.user_timeline, screen_name=userID,tweet_mode='extended',include_rts=0,wait_on_rate_limit=True, wait_on_rate_limit_notify=True).pages(80):\n",
    "    pages.extend(page)\n"
   ]
  },
  {
   "cell_type": "code",
   "execution_count": 64,
   "metadata": {},
   "outputs": [],
   "source": [
    "l=[]\n",
    "for tweet in pages:\n",
    "    #uncomment to remove quote statuses\n",
    "    #if tweet.is_quote_status:\n",
    "        #continue\n",
    "    text = tweet.full_text.replace('\\n','') #remove new lines\n",
    "    l.append([tweet.created_at, text])"
   ]
  },
  {
   "cell_type": "code",
   "execution_count": 65,
   "metadata": {},
   "outputs": [],
   "source": [
    "with open('trump_tweets.txt','w',encoding='utf-8') as outfile:\n",
    "    outfile.write('timestamp\\ttweet\\n')\n",
    "    for tweet in l:\n",
    "        outfile.write(str(tweet[0])+'\\t'+tweet[1]+'\\n')"
   ]
  },
  {
   "cell_type": "markdown",
   "metadata": {},
   "source": [
    "# AP state call times"
   ]
  },
  {
   "cell_type": "code",
   "execution_count": 4,
   "metadata": {},
   "outputs": [],
   "source": [
    "userID = \"AP_Politics\"\n",
    "pages=[]\n",
    "for page in tweepy.Cursor(api.user_timeline, screen_name=userID,tweet_mode='extended',include_rts=0,wait_on_rate_limit=True, wait_on_rate_limit_notify=True).pages(100):\n",
    "    pages.extend(page)\n"
   ]
  },
  {
   "cell_type": "code",
   "execution_count": 83,
   "metadata": {},
   "outputs": [],
   "source": [
    "ap=[]\n",
    "for tweet in pages:\n",
    "    #uncomment to remove quote statuses\n",
    "    #if tweet.is_quote_status:\n",
    "        #continue\n",
    "    text = tweet.full_text.replace('\\n','') #remove new lines\n",
    "    timestamp=tweet.created_at\n",
    "    timestamp=timestamp.replace(tzinfo=from_zone)\n",
    "    timestamp=timestamp.astimezone(to_zone)\n",
    "\n",
    "    ap.append([timestamp, text])"
   ]
  },
  {
   "cell_type": "code",
   "execution_count": 84,
   "metadata": {},
   "outputs": [],
   "source": [
    "state_calls=[]\n",
    "for tweet in ap:\n",
    "    text=tweet[1].lower()\n",
    "    if '#apracecall' in text and any(cand in text for cand in ['biden','trump']):\n",
    "        state_calls.append(tweet)\n",
    "        \n",
    "state_calls=state_calls[:51]"
   ]
  },
  {
   "cell_type": "code",
   "execution_count": 85,
   "metadata": {},
   "outputs": [],
   "source": [
    "e_votes={'Alabama':9,'Alaska':3,'Arizona':11,'Arkansas':6,'California':55,\n",
    "        'Colorado':9,'Connecticut':7,'Delaware':3,'the District of Columbia':3,\n",
    "        'Florida':29,'Georgia':16,'Hawaii':4,'Idaho':4,'Illinois':20,\n",
    "        'Indiana':11,'Iowa':6,'Kansas':6,'Kentucky':8,'Louisiana':8,\n",
    "        'Maine':4,'Maryland':10,'Massachusetts':11,'Michigan':16,\n",
    "        'Minnesota': 10, 'Mississippi':6,'Missouri':10,'Montana':3,\n",
    "        'Nebraska':5,'Nevada':6,'New Hampshire':4,'New Jersey': 14,\n",
    "        'New Mexico': 5,'New York':29,'North Carolina':15,'North Dakota':3,\n",
    "        'Ohio': 18,'Oklahoma':7,'Oregon': 7,'Pennsylvania':20,\n",
    "        'Rhode Island':4,'South Carolina':9,'South Dakota':3,\n",
    "        'Tennessee':11,'Texas':38,'Utah':6,'Vermont':3,'Virginia':13,\n",
    "        'Washington':12,'West Virginia': 5,'Wisconsin':10,'Wyoming':3}\n",
    "         "
   ]
  },
  {
   "cell_type": "code",
   "execution_count": 99,
   "metadata": {},
   "outputs": [],
   "source": [
    "state_list=[]\n",
    "time_list=[]\n",
    "votes_list=[]\n",
    "winner_list=[]\n",
    "for i in range(51):\n",
    "    winner=state_calls[i][1].split('wins')[0].split()[-1].strip()\n",
    "    state = state_calls[i][1].split('wins')[1].split('.')[0].strip()\n",
    "    votes = e_votes[state]\n",
    "    time = state_calls[i][1].split('at')[1].split('#')[0]\n",
    "    hour_min = time.split()[0]\n",
    "    am_pm = time.split()[1]\n",
    "\n",
    "    timezone = time.split('m.')[1].split('.')[0].strip()\n",
    "    year=2020\n",
    "    month=11\n",
    "    day=state_calls[i][0].day\n",
    "    hour=int(hour_min.split(':')[0])\n",
    "    mins=int(hour_min.split(':')[1])\n",
    "    \n",
    "    if am_pm=='p.m.':\n",
    "        hour+=12\n",
    "\n",
    "    if timezone=='EST':\n",
    "        pass\n",
    "    elif timezone=='CST':\n",
    "        hour+=1\n",
    "    elif timezone=='MST':\n",
    "        hour+=2\n",
    "    elif timezone=='PST':\n",
    "        hour+=3\n",
    "    elif timezone=='Alaska Standard Time':\n",
    "        hour+=4\n",
    "    elif timezone=='HST':\n",
    "        hour+=5\n",
    "    else:\n",
    "        print('uh oh')\n",
    "        \n",
    "    if hour>23:\n",
    "        hour=hour-24\n",
    "        day+=1\n",
    "    \n",
    "    call_time = datetime.datetime(year,11,day,hour,mins,0, tzinfo=tz.gettz('America/New_York'))\n",
    "    \n",
    "    state_list.append(state)\n",
    "    votes_list.append(votes)\n",
    "    time_list.append(call_time)\n",
    "    winner_list.append(winner)\n",
    "    \n",
    "  "
   ]
  },
  {
   "cell_type": "code",
   "execution_count": 100,
   "metadata": {},
   "outputs": [],
   "source": [
    "import pandas as pd\n",
    "df=pd.DataFrame()"
   ]
  },
  {
   "cell_type": "code",
   "execution_count": 101,
   "metadata": {},
   "outputs": [],
   "source": [
    "df['state']=state_list\n",
    "df['call_time']=time_list\n",
    "df['votes']=votes_list\n",
    "df['winner']=winner_list"
   ]
  },
  {
   "cell_type": "code",
   "execution_count": 102,
   "metadata": {},
   "outputs": [],
   "source": [
    "df.to_csv('AP_call_times.csv',index=False)"
   ]
  },
  {
   "cell_type": "markdown",
   "metadata": {},
   "source": [
    "# get all of trump tweets including rts"
   ]
  },
  {
   "cell_type": "code",
   "execution_count": 34,
   "metadata": {},
   "outputs": [
    {
     "data": {
      "text/plain": [
       "1093"
      ]
     },
     "execution_count": 34,
     "metadata": {},
     "output_type": "execute_result"
    }
   ],
   "source": [
    "#Get trump tweet numbers by day\n",
    "userID = \"realDonaldTrump\"\n",
    "pages=[]\n",
    "for page in tweepy.Cursor(api.user_timeline, screen_name=userID,include_rts=0).pages(90):\n",
    "    pages.extend(page)\n",
    "    \n",
    "len(pages)"
   ]
  },
  {
   "cell_type": "code",
   "execution_count": 44,
   "metadata": {},
   "outputs": [],
   "source": [
    "l=[]\n",
    "for tweet in pages:\n",
    "    #uncomment to remove quote statuses\n",
    "    #if tweet.is_quote_status:\n",
    "        #continue\n",
    "    text = tweet.text.replace('\\n','') #remove new lines\n",
    "    l.append([tweet.created_at, text])\n",
    "    \n",
    "with open('trump_tweets_all.txt','w',encoding='utf-8') as outfile:\n",
    "    outfile.write('timestamp\\ttweet\\n')\n",
    "    for tweet in l:\n",
    "        outfile.write(str(tweet[0])+'\\t'+tweet[1]+'\\n')"
   ]
  },
  {
   "cell_type": "code",
   "execution_count": null,
   "metadata": {},
   "outputs": [],
   "source": []
  }
 ],
 "metadata": {
  "kernelspec": {
   "display_name": "Python 3",
   "language": "python",
   "name": "python3"
  },
  "language_info": {
   "codemirror_mode": {
    "name": "ipython",
    "version": 3
   },
   "file_extension": ".py",
   "mimetype": "text/x-python",
   "name": "python",
   "nbconvert_exporter": "python",
   "pygments_lexer": "ipython3",
   "version": "3.8.3"
  }
 },
 "nbformat": 4,
 "nbformat_minor": 4
}
